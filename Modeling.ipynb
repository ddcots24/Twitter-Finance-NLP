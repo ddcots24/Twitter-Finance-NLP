{
 "cells": [
  {
   "cell_type": "code",
   "execution_count": 1,
   "metadata": {},
   "outputs": [],
   "source": [
    "import numpy as np\n",
    "import pandas as pd\n",
    "import nltk\n",
    "from nltk.tokenize import regexp_tokenize, word_tokenize, RegexpTokenizer\n",
    "from nltk.corpus import stopwords, wordnet\n",
    "from nltk import pos_tag\n",
    "from nltk.stem import WordNetLemmatizer\n",
    "from sklearn.ensemble import RandomForestClassifier\n",
    "from sklearn.naive_bayes import MultinomialNB\n",
    "from sklearn.metrics import accuracy_score, precision_score, confusion_matrix\n",
    "from sklearn.metrics import plot_confusion_matrix\n",
    "from sklearn.metrics import classification_report\n",
    "from sklearn.metrics import plot_roc_curve\n",
    "from sklearn.metrics import roc_auc_score\n",
    "from sklearn.preprocessing import FunctionTransformer, StandardScaler\n",
    "from sklearn.compose import ColumnTransformer\n",
    "from sklearn.base import BaseEstimator, TransformerMixin\n",
    "from imblearn.pipeline import Pipeline\n",
    "from sklearn.feature_extraction.text import CountVectorizer\n",
    "from imblearn.over_sampling import RandomOverSampler, SMOTE\n",
    "from sklearn.naive_bayes import MultinomialNB, ComplementNB\n",
    "from sklearn import set_config\n",
    "from sklearn.model_selection import GridSearchCV\n",
    "set_config(display='diagram')\n",
    "stop_words = stopwords.words('english')\n",
    "stop_words.append('https')"
   ]
  },
  {
   "cell_type": "code",
   "execution_count": 2,
   "metadata": {},
   "outputs": [],
   "source": [
    "class TextPreprocessor(BaseEstimator, TransformerMixin):\n",
    "    \n",
    "    def __init__(self):\n",
    "        \n",
    "        pass\n",
    "    \n",
    "    def fit(self, data, y = 0):\n",
    "        \n",
    "        return self\n",
    "    \n",
    "    def transform(self, data, y = 0):\n",
    "        normalized_corpus = data.apply(self.process_doc)\n",
    "        \n",
    "        return normalized_corpus\n",
    "        \n",
    "    def process_doc(self, doc):\n",
    "\n",
    "        wnl = WordNetLemmatizer()\n",
    "        stop_words = stopwords.words('english')\n",
    "        \n",
    "        def pos_tagger(nltk_tag):\n",
    "            if nltk_tag.startswith('J'):\n",
    "                return wordnet.ADJ\n",
    "            elif nltk_tag.startswith('V'):\n",
    "                return wordnet.VERB\n",
    "            elif nltk_tag.startswith('N'):\n",
    "                return wordnet.NOUN\n",
    "            elif nltk_tag.startswith('R'):\n",
    "                return wordnet.ADV\n",
    "            else:         \n",
    "                return None\n",
    "\n",
    "        doc_norm = [tok.lower() for tok in word_tokenize(doc) if ((tok.isalpha()) & (tok.lower() not in stop_words)) ]\n",
    "\n",
    "        wordnet_tagged = list(map(lambda x: (x[0], pos_tagger(x[1])), pos_tag(doc_norm))) \n",
    "        doc_norm = [wnl.lemmatize(token, pos) for token, pos in wordnet_tagged if pos is not None]\n",
    "\n",
    "        return \" \".join(doc_norm)"
   ]
  },
  {
   "cell_type": "code",
   "execution_count": 3,
   "metadata": {},
   "outputs": [],
   "source": [
    "train= pd.read_csv('sent_train.csv')\n",
    "test = pd.read_csv('sent_valid.csv')\n",
    "X_train = train['text']\n",
    "X_test = test['text']\n",
    "y_train = train['label']\n",
    "y_test = test['label']"
   ]
  },
  {
   "cell_type": "code",
   "execution_count": 4,
   "metadata": {},
   "outputs": [],
   "source": [
    "processor = TextPreprocessor()\n",
    "X_train_transformed = processor.fit_transform(X_train)"
   ]
  },
  {
   "cell_type": "code",
   "execution_count": 5,
   "metadata": {},
   "outputs": [],
   "source": [
    "X_train_frame = X_train_transformed.to_frame()"
   ]
  },
  {
   "cell_type": "code",
   "execution_count": 56,
   "metadata": {},
   "outputs": [],
   "source": [
    "Tweet_text_transformer = Pipeline(steps = [\n",
    "    (\"squeeze\", FunctionTransformer(lambda x: x.squeeze())),\n",
    "    (\"vec\", CountVectorizer()),\n",
    "    (\"array\", FunctionTransformer(lambda x: x.toarray()))\n",
    "])\n",
    "\n",
    "preprocessor = ColumnTransformer(transformers = [\n",
    "    ('tweet_text', Tweet_text_transformer, ['text'])])\n",
    "\n",
    "steps = [('preprocessor', preprocessor), ('ros', RandomOverSampler(random_state = 24, sampling_strategy = 'not majority')), ('compNB', ComplementNB())]\n",
    "\n",
    "model_pipe = Pipeline(steps)"
   ]
  },
  {
   "cell_type": "code",
   "execution_count": 57,
   "metadata": {},
   "outputs": [
    {
     "data": {
      "text/html": [
       "<style>div.sk-top-container {color: black;background-color: white;}div.sk-toggleable {background-color: white;}label.sk-toggleable__label {cursor: pointer;display: block;width: 100%;margin-bottom: 0;padding: 0.2em 0.3em;box-sizing: border-box;text-align: center;}div.sk-toggleable__content {max-height: 0;max-width: 0;overflow: hidden;text-align: left;background-color: #f0f8ff;}div.sk-toggleable__content pre {margin: 0.2em;color: black;border-radius: 0.25em;background-color: #f0f8ff;}input.sk-toggleable__control:checked~div.sk-toggleable__content {max-height: 200px;max-width: 100%;overflow: auto;}div.sk-estimator input.sk-toggleable__control:checked~label.sk-toggleable__label {background-color: #d4ebff;}div.sk-label input.sk-toggleable__control:checked~label.sk-toggleable__label {background-color: #d4ebff;}input.sk-hidden--visually {border: 0;clip: rect(1px 1px 1px 1px);clip: rect(1px, 1px, 1px, 1px);height: 1px;margin: -1px;overflow: hidden;padding: 0;position: absolute;width: 1px;}div.sk-estimator {font-family: monospace;background-color: #f0f8ff;margin: 0.25em 0.25em;border: 1px dotted black;border-radius: 0.25em;box-sizing: border-box;}div.sk-estimator:hover {background-color: #d4ebff;}div.sk-parallel-item::after {content: \"\";width: 100%;border-bottom: 1px solid gray;flex-grow: 1;}div.sk-label:hover label.sk-toggleable__label {background-color: #d4ebff;}div.sk-serial::before {content: \"\";position: absolute;border-left: 1px solid gray;box-sizing: border-box;top: 2em;bottom: 0;left: 50%;}div.sk-serial {display: flex;flex-direction: column;align-items: center;background-color: white;}div.sk-item {z-index: 1;}div.sk-parallel {display: flex;align-items: stretch;justify-content: center;background-color: white;}div.sk-parallel-item {display: flex;flex-direction: column;position: relative;background-color: white;}div.sk-parallel-item:first-child::after {align-self: flex-end;width: 50%;}div.sk-parallel-item:last-child::after {align-self: flex-start;width: 50%;}div.sk-parallel-item:only-child::after {width: 0;}div.sk-dashed-wrapped {border: 1px dashed gray;margin: 0.2em;box-sizing: border-box;padding-bottom: 0.1em;background-color: white;position: relative;}div.sk-label label {font-family: monospace;font-weight: bold;background-color: white;display: inline-block;line-height: 1.2em;}div.sk-label-container {position: relative;z-index: 2;text-align: center;}div.sk-container {display: inline-block;position: relative;}</style><div class=\"sk-top-container\"><div class=\"sk-container\"><div class=\"sk-item sk-dashed-wrapped\"><div class=\"sk-label-container\"><div class=\"sk-label sk-toggleable\"><input class=\"sk-toggleable__control sk-hidden--visually\" id=\"f54148d3-7d22-4d6b-a230-d3f24278b1e9\" type=\"checkbox\" ><label class=\"sk-toggleable__label\" for=\"f54148d3-7d22-4d6b-a230-d3f24278b1e9\">Pipeline</label><div class=\"sk-toggleable__content\"><pre>Pipeline(steps=[('preprocessor',\n",
       "                 ColumnTransformer(transformers=[('tweet_text',\n",
       "                                                  Pipeline(steps=[('squeeze',\n",
       "                                                                   FunctionTransformer(func=<function <lambda> at 0x000001EE7EA75D30>)),\n",
       "                                                                  ('vec',\n",
       "                                                                   CountVectorizer()),\n",
       "                                                                  ('array',\n",
       "                                                                   FunctionTransformer(func=<function <lambda> at 0x000001EE7EA75DC0>))]),\n",
       "                                                  ['text'])])),\n",
       "                ('ros',\n",
       "                 RandomOverSampler(random_state=24,\n",
       "                                   sampling_strategy='not majority')),\n",
       "                ('compNB', ComplementNB())])</pre></div></div></div><div class=\"sk-serial\"><div class=\"sk-item sk-dashed-wrapped\"><div class=\"sk-label-container\"><div class=\"sk-label sk-toggleable\"><input class=\"sk-toggleable__control sk-hidden--visually\" id=\"89d2652e-83fd-4e96-8703-2a2c9f9bf438\" type=\"checkbox\" ><label class=\"sk-toggleable__label\" for=\"89d2652e-83fd-4e96-8703-2a2c9f9bf438\">preprocessor: ColumnTransformer</label><div class=\"sk-toggleable__content\"><pre>ColumnTransformer(transformers=[('tweet_text',\n",
       "                                 Pipeline(steps=[('squeeze',\n",
       "                                                  FunctionTransformer(func=<function <lambda> at 0x000001EE7EA75D30>)),\n",
       "                                                 ('vec', CountVectorizer()),\n",
       "                                                 ('array',\n",
       "                                                  FunctionTransformer(func=<function <lambda> at 0x000001EE7EA75DC0>))]),\n",
       "                                 ['text'])])</pre></div></div></div><div class=\"sk-parallel\"><div class=\"sk-parallel-item\"><div class=\"sk-item\"><div class=\"sk-label-container\"><div class=\"sk-label sk-toggleable\"><input class=\"sk-toggleable__control sk-hidden--visually\" id=\"1cc60537-a28d-467b-b500-a2ffd6c15e85\" type=\"checkbox\" ><label class=\"sk-toggleable__label\" for=\"1cc60537-a28d-467b-b500-a2ffd6c15e85\">tweet_text</label><div class=\"sk-toggleable__content\"><pre>['text']</pre></div></div></div><div class=\"sk-serial\"><div class=\"sk-item\"><div class=\"sk-serial\"><div class=\"sk-item\"><div class=\"sk-estimator sk-toggleable\"><input class=\"sk-toggleable__control sk-hidden--visually\" id=\"431b18da-e5f7-4447-8196-f05ad525b108\" type=\"checkbox\" ><label class=\"sk-toggleable__label\" for=\"431b18da-e5f7-4447-8196-f05ad525b108\">FunctionTransformer</label><div class=\"sk-toggleable__content\"><pre>FunctionTransformer(func=<function <lambda> at 0x000001EE7EA75D30>)</pre></div></div></div><div class=\"sk-item\"><div class=\"sk-estimator sk-toggleable\"><input class=\"sk-toggleable__control sk-hidden--visually\" id=\"a58e6a52-14c3-4ea3-a64a-b1aefc631831\" type=\"checkbox\" ><label class=\"sk-toggleable__label\" for=\"a58e6a52-14c3-4ea3-a64a-b1aefc631831\">CountVectorizer</label><div class=\"sk-toggleable__content\"><pre>CountVectorizer()</pre></div></div></div><div class=\"sk-item\"><div class=\"sk-estimator sk-toggleable\"><input class=\"sk-toggleable__control sk-hidden--visually\" id=\"4a8627c6-766c-41b4-9778-f338c5cf17bd\" type=\"checkbox\" ><label class=\"sk-toggleable__label\" for=\"4a8627c6-766c-41b4-9778-f338c5cf17bd\">FunctionTransformer</label><div class=\"sk-toggleable__content\"><pre>FunctionTransformer(func=<function <lambda> at 0x000001EE7EA75DC0>)</pre></div></div></div></div></div></div></div></div></div></div><div class=\"sk-item\"><div class=\"sk-estimator sk-toggleable\"><input class=\"sk-toggleable__control sk-hidden--visually\" id=\"48eb40f3-53ae-44fd-aa3a-7d3062541809\" type=\"checkbox\" ><label class=\"sk-toggleable__label\" for=\"48eb40f3-53ae-44fd-aa3a-7d3062541809\">RandomOverSampler</label><div class=\"sk-toggleable__content\"><pre>RandomOverSampler(random_state=24, sampling_strategy='not majority')</pre></div></div></div><div class=\"sk-item\"><div class=\"sk-estimator sk-toggleable\"><input class=\"sk-toggleable__control sk-hidden--visually\" id=\"729cd5e7-09cc-4082-89c6-86ca39a19ed0\" type=\"checkbox\" ><label class=\"sk-toggleable__label\" for=\"729cd5e7-09cc-4082-89c6-86ca39a19ed0\">ComplementNB</label><div class=\"sk-toggleable__content\"><pre>ComplementNB()</pre></div></div></div></div></div></div></div>"
      ],
      "text/plain": [
       "Pipeline(steps=[('preprocessor',\n",
       "                 ColumnTransformer(transformers=[('tweet_text',\n",
       "                                                  Pipeline(steps=[('squeeze',\n",
       "                                                                   FunctionTransformer(func=<function <lambda> at 0x000001EE7EA75D30>)),\n",
       "                                                                  ('vec',\n",
       "                                                                   CountVectorizer()),\n",
       "                                                                  ('array',\n",
       "                                                                   FunctionTransformer(func=<function <lambda> at 0x000001EE7EA75DC0>))]),\n",
       "                                                  ['text'])])),\n",
       "                ('ros',\n",
       "                 RandomOverSampler(random_state=24,\n",
       "                                   sampling_strategy='not majority')),\n",
       "                ('compNB', ComplementNB())])"
      ]
     },
     "execution_count": 57,
     "metadata": {},
     "output_type": "execute_result"
    }
   ],
   "source": [
    "model_pipe.fit(X_train_frame, y_train)"
   ]
  },
  {
   "cell_type": "code",
   "execution_count": 58,
   "metadata": {},
   "outputs": [
    {
     "data": {
      "text/plain": [
       "0.8651367494498585"
      ]
     },
     "execution_count": 58,
     "metadata": {},
     "output_type": "execute_result"
    }
   ],
   "source": [
    "model_pipe.score(X_train_frame, y_train)"
   ]
  },
  {
   "cell_type": "code",
   "execution_count": 59,
   "metadata": {},
   "outputs": [
    {
     "name": "stdout",
     "output_type": "stream",
     "text": [
      "              precision    recall  f1-score   support\n",
      "\n",
      "           0       0.46      0.71      0.56       347\n",
      "           1       0.57      0.68      0.62       475\n",
      "           2       0.90      0.74      0.81      1566\n",
      "\n",
      "    accuracy                           0.72      2388\n",
      "   macro avg       0.64      0.71      0.66      2388\n",
      "weighted avg       0.77      0.72      0.74      2388\n",
      "\n"
     ]
    }
   ],
   "source": [
    "X_test_transformed = processor.transform(X_test)\n",
    "X_test_toframe = X_test_transformed.to_frame()\n",
    "y_pred = model_pipe.predict(X_test_toframe)\n",
    "print(classification_report(y_test, y_pred))"
   ]
  },
  {
   "cell_type": "code",
   "execution_count": 60,
   "metadata": {},
   "outputs": [
    {
     "data": {
      "image/png": "[encoded data removed]",
      "text/plain": [
       "<Figure size 432x288 with 2 Axes>"
      ]
     },
     "metadata": {
      "needs_background": "light"
     },
     "output_type": "display_data"
    }
   ],
   "source": [
    "plot_confusion_matrix(model_pipe, X_test_toframe,\n",
    "                      y_test);"
   ]
  },
  {
   "cell_type": "code",
   "execution_count": 66,
   "metadata": {},
   "outputs": [],
   "source": [
    "gridparams =  [{'compNB__alpha' : [1, .8, .85, .9, .95],\n",
    "         'ros__sampling_strategy': ['not majority'],\n",
    "               'preprocessor__tweet_text__vec__max_df': [.9, .8, .7, .6],\n",
    "               'preprocessor__tweet_text__vec__min_df': [0, .05, .1, .2],\n",
    "               'preprocessor__tweet_text__vec__ngram_range': [(1,1), (1,2)]}\n",
    "       ]"
   ]
  },
  {
   "cell_type": "code",
   "execution_count": 80,
   "metadata": {},
   "outputs": [],
   "source": [
    "GridSearch = GridSearchCV(model_pipe, param_grid = gridparams, scoring= 'f1_weighted', cv = 3)"
   ]
  },
  {
   "cell_type": "code",
   "execution_count": 81,
   "metadata": {},
   "outputs": [
    {
     "data": {
      "text/html": [
       "<style>div.sk-top-container {color: black;background-color: white;}div.sk-toggleable {background-color: white;}label.sk-toggleable__label {cursor: pointer;display: block;width: 100%;margin-bottom: 0;padding: 0.2em 0.3em;box-sizing: border-box;text-align: center;}div.sk-toggleable__content {max-height: 0;max-width: 0;overflow: hidden;text-align: left;background-color: #f0f8ff;}div.sk-toggleable__content pre {margin: 0.2em;color: black;border-radius: 0.25em;background-color: #f0f8ff;}input.sk-toggleable__control:checked~div.sk-toggleable__content {max-height: 200px;max-width: 100%;overflow: auto;}div.sk-estimator input.sk-toggleable__control:checked~label.sk-toggleable__label {background-color: #d4ebff;}div.sk-label input.sk-toggleable__control:checked~label.sk-toggleable__label {background-color: #d4ebff;}input.sk-hidden--visually {border: 0;clip: rect(1px 1px 1px 1px);clip: rect(1px, 1px, 1px, 1px);height: 1px;margin: -1px;overflow: hidden;padding: 0;position: absolute;width: 1px;}div.sk-estimator {font-family: monospace;background-color: #f0f8ff;margin: 0.25em 0.25em;border: 1px dotted black;border-radius: 0.25em;box-sizing: border-box;}div.sk-estimator:hover {background-color: #d4ebff;}div.sk-parallel-item::after {content: \"\";width: 100%;border-bottom: 1px solid gray;flex-grow: 1;}div.sk-label:hover label.sk-toggleable__label {background-color: #d4ebff;}div.sk-serial::before {content: \"\";position: absolute;border-left: 1px solid gray;box-sizing: border-box;top: 2em;bottom: 0;left: 50%;}div.sk-serial {display: flex;flex-direction: column;align-items: center;background-color: white;}div.sk-item {z-index: 1;}div.sk-parallel {display: flex;align-items: stretch;justify-content: center;background-color: white;}div.sk-parallel-item {display: flex;flex-direction: column;position: relative;background-color: white;}div.sk-parallel-item:first-child::after {align-self: flex-end;width: 50%;}div.sk-parallel-item:last-child::after {align-self: flex-start;width: 50%;}div.sk-parallel-item:only-child::after {width: 0;}div.sk-dashed-wrapped {border: 1px dashed gray;margin: 0.2em;box-sizing: border-box;padding-bottom: 0.1em;background-color: white;position: relative;}div.sk-label label {font-family: monospace;font-weight: bold;background-color: white;display: inline-block;line-height: 1.2em;}div.sk-label-container {position: relative;z-index: 2;text-align: center;}div.sk-container {display: inline-block;position: relative;}</style><div class=\"sk-top-container\"><div class=\"sk-container\"><div class=\"sk-item sk-dashed-wrapped\"><div class=\"sk-label-container\"><div class=\"sk-label sk-toggleable\"><input class=\"sk-toggleable__control sk-hidden--visually\" id=\"f9a09d07-fa63-4169-b13d-b493083ea110\" type=\"checkbox\" ><label class=\"sk-toggleable__label\" for=\"f9a09d07-fa63-4169-b13d-b493083ea110\">GridSearchCV</label><div class=\"sk-toggleable__content\"><pre>GridSearchCV(cv=3,\n",
       "             estimator=Pipeline(steps=[('preprocessor',\n",
       "                                        ColumnTransformer(transformers=[('tweet_text',\n",
       "                                                                         Pipeline(steps=[('squeeze',\n",
       "                                                                                          FunctionTransformer(func=<function <lambda> at 0x000001EE7EA75D30>)),\n",
       "                                                                                         ('vec',\n",
       "                                                                                          CountVectorizer()),\n",
       "                                                                                         ('array',\n",
       "                                                                                          FunctionTransformer(func=<function <lambda> at 0x000001EE7EA75DC0>))]),\n",
       "                                                                         ['text'])])),\n",
       "                                       ('ros',\n",
       "                                        RandomOverSampler(random_sta...\n",
       "                                                          sampling_strategy='not '\n",
       "                                                                            'majority')),\n",
       "                                       ('compNB', ComplementNB())]),\n",
       "             param_grid=[{'compNB__alpha': [1, 0.8, 0.85, 0.9, 0.95],\n",
       "                          'preprocessor__tweet_text__vec__max_df': [0.9, 0.8,\n",
       "                                                                    0.7, 0.6],\n",
       "                          'preprocessor__tweet_text__vec__min_df': [0, 0.05,\n",
       "                                                                    0.1, 0.2],\n",
       "                          'preprocessor__tweet_text__vec__ngram_range': [(1, 1),\n",
       "                                                                         (1,\n",
       "                                                                          2)],\n",
       "                          'ros__sampling_strategy': ['not majority']}],\n",
       "             scoring='f1_weighted')</pre></div></div></div><div class=\"sk-parallel\"><div class=\"sk-parallel-item\"><div class=\"sk-item\"><div class=\"sk-serial\"><div class=\"sk-item\"><div class=\"sk-serial\"><div class=\"sk-item sk-dashed-wrapped\"><div class=\"sk-label-container\"><div class=\"sk-label sk-toggleable\"><input class=\"sk-toggleable__control sk-hidden--visually\" id=\"ecfd6e4d-6e79-4a8e-ae4c-2e4c954d27dd\" type=\"checkbox\" ><label class=\"sk-toggleable__label\" for=\"ecfd6e4d-6e79-4a8e-ae4c-2e4c954d27dd\">preprocessor: ColumnTransformer</label><div class=\"sk-toggleable__content\"><pre>ColumnTransformer(transformers=[('tweet_text',\n",
       "                                 Pipeline(steps=[('squeeze',\n",
       "                                                  FunctionTransformer(func=<function <lambda> at 0x000001EE7EA75D30>)),\n",
       "                                                 ('vec', CountVectorizer()),\n",
       "                                                 ('array',\n",
       "                                                  FunctionTransformer(func=<function <lambda> at 0x000001EE7EA75DC0>))]),\n",
       "                                 ['text'])])</pre></div></div></div><div class=\"sk-parallel\"><div class=\"sk-parallel-item\"><div class=\"sk-item\"><div class=\"sk-label-container\"><div class=\"sk-label sk-toggleable\"><input class=\"sk-toggleable__control sk-hidden--visually\" id=\"3140615b-8f07-4ce0-b8b6-a1b39e2d4d1a\" type=\"checkbox\" ><label class=\"sk-toggleable__label\" for=\"3140615b-8f07-4ce0-b8b6-a1b39e2d4d1a\">tweet_text</label><div class=\"sk-toggleable__content\"><pre>['text']</pre></div></div></div><div class=\"sk-serial\"><div class=\"sk-item\"><div class=\"sk-serial\"><div class=\"sk-item\"><div class=\"sk-estimator sk-toggleable\"><input class=\"sk-toggleable__control sk-hidden--visually\" id=\"8cba0b01-3405-4311-8ce7-d49d07dd5e61\" type=\"checkbox\" ><label class=\"sk-toggleable__label\" for=\"8cba0b01-3405-4311-8ce7-d49d07dd5e61\">FunctionTransformer</label><div class=\"sk-toggleable__content\"><pre>FunctionTransformer(func=<function <lambda> at 0x000001EE7EA75D30>)</pre></div></div></div><div class=\"sk-item\"><div class=\"sk-estimator sk-toggleable\"><input class=\"sk-toggleable__control sk-hidden--visually\" id=\"af096469-df21-482e-a954-465cb9d6cd94\" type=\"checkbox\" ><label class=\"sk-toggleable__label\" for=\"af096469-df21-482e-a954-465cb9d6cd94\">CountVectorizer</label><div class=\"sk-toggleable__content\"><pre>CountVectorizer()</pre></div></div></div><div class=\"sk-item\"><div class=\"sk-estimator sk-toggleable\"><input class=\"sk-toggleable__control sk-hidden--visually\" id=\"23063b0d-72b0-401e-94fe-92beddb5dd27\" type=\"checkbox\" ><label class=\"sk-toggleable__label\" for=\"23063b0d-72b0-401e-94fe-92beddb5dd27\">FunctionTransformer</label><div class=\"sk-toggleable__content\"><pre>FunctionTransformer(func=<function <lambda> at 0x000001EE7EA75DC0>)</pre></div></div></div></div></div></div></div></div></div></div><div class=\"sk-item\"><div class=\"sk-estimator sk-toggleable\"><input class=\"sk-toggleable__control sk-hidden--visually\" id=\"5a6c99e7-5f88-4d40-98cc-f908d1cd4f8c\" type=\"checkbox\" ><label class=\"sk-toggleable__label\" for=\"5a6c99e7-5f88-4d40-98cc-f908d1cd4f8c\">RandomOverSampler</label><div class=\"sk-toggleable__content\"><pre>RandomOverSampler(random_state=24, sampling_strategy='not majority')</pre></div></div></div><div class=\"sk-item\"><div class=\"sk-estimator sk-toggleable\"><input class=\"sk-toggleable__control sk-hidden--visually\" id=\"039a7859-674a-4b5d-9bae-cd98d7721be0\" type=\"checkbox\" ><label class=\"sk-toggleable__label\" for=\"039a7859-674a-4b5d-9bae-cd98d7721be0\">ComplementNB</label><div class=\"sk-toggleable__content\"><pre>ComplementNB()</pre></div></div></div></div></div></div></div></div></div></div></div></div>"
      ],
      "text/plain": [
       "GridSearchCV(cv=3,\n",
       "             estimator=Pipeline(steps=[('preprocessor',\n",
       "                                        ColumnTransformer(transformers=[('tweet_text',\n",
       "                                                                         Pipeline(steps=[('squeeze',\n",
       "                                                                                          FunctionTransformer(func=<function <lambda> at 0x000001EE7EA75D30>)),\n",
       "                                                                                         ('vec',\n",
       "                                                                                          CountVectorizer()),\n",
       "                                                                                         ('array',\n",
       "                                                                                          FunctionTransformer(func=<function <lambda> at 0x000001EE7EA75DC0>))]),\n",
       "                                                                         ['text'])])),\n",
       "                                       ('ros',\n",
       "                                        RandomOverSampler(random_sta...\n",
       "                                                          sampling_strategy='not '\n",
       "                                                                            'majority')),\n",
       "                                       ('compNB', ComplementNB())]),\n",
       "             param_grid=[{'compNB__alpha': [1, 0.8, 0.85, 0.9, 0.95],\n",
       "                          'preprocessor__tweet_text__vec__max_df': [0.9, 0.8,\n",
       "                                                                    0.7, 0.6],\n",
       "                          'preprocessor__tweet_text__vec__min_df': [0, 0.05,\n",
       "                                                                    0.1, 0.2],\n",
       "                          'preprocessor__tweet_text__vec__ngram_range': [(1, 1),\n",
       "                                                                         (1,\n",
       "                                                                          2)],\n",
       "                          'ros__sampling_strategy': ['not majority']}],\n",
       "             scoring='f1_weighted')"
      ]
     },
     "execution_count": 81,
     "metadata": {},
     "output_type": "execute_result"
    }
   ],
   "source": [
    "GridSearch.fit(X_train_frame, y_train)"
   ]
  },
  {
   "cell_type": "code",
   "execution_count": 86,
   "metadata": {},
   "outputs": [],
   "source": [
    "best_model_ComplementNB = GridSearch.best_estimator_"
   ]
  },
  {
   "cell_type": "code",
   "execution_count": 90,
   "metadata": {},
   "outputs": [
    {
     "data": {
      "text/html": [
       "<style>div.sk-top-container {color: black;background-color: white;}div.sk-toggleable {background-color: white;}label.sk-toggleable__label {cursor: pointer;display: block;width: 100%;margin-bottom: 0;padding: 0.2em 0.3em;box-sizing: border-box;text-align: center;}div.sk-toggleable__content {max-height: 0;max-width: 0;overflow: hidden;text-align: left;background-color: #f0f8ff;}div.sk-toggleable__content pre {margin: 0.2em;color: black;border-radius: 0.25em;background-color: #f0f8ff;}input.sk-toggleable__control:checked~div.sk-toggleable__content {max-height: 200px;max-width: 100%;overflow: auto;}div.sk-estimator input.sk-toggleable__control:checked~label.sk-toggleable__label {background-color: #d4ebff;}div.sk-label input.sk-toggleable__control:checked~label.sk-toggleable__label {background-color: #d4ebff;}input.sk-hidden--visually {border: 0;clip: rect(1px 1px 1px 1px);clip: rect(1px, 1px, 1px, 1px);height: 1px;margin: -1px;overflow: hidden;padding: 0;position: absolute;width: 1px;}div.sk-estimator {font-family: monospace;background-color: #f0f8ff;margin: 0.25em 0.25em;border: 1px dotted black;border-radius: 0.25em;box-sizing: border-box;}div.sk-estimator:hover {background-color: #d4ebff;}div.sk-parallel-item::after {content: \"\";width: 100%;border-bottom: 1px solid gray;flex-grow: 1;}div.sk-label:hover label.sk-toggleable__label {background-color: #d4ebff;}div.sk-serial::before {content: \"\";position: absolute;border-left: 1px solid gray;box-sizing: border-box;top: 2em;bottom: 0;left: 50%;}div.sk-serial {display: flex;flex-direction: column;align-items: center;background-color: white;}div.sk-item {z-index: 1;}div.sk-parallel {display: flex;align-items: stretch;justify-content: center;background-color: white;}div.sk-parallel-item {display: flex;flex-direction: column;position: relative;background-color: white;}div.sk-parallel-item:first-child::after {align-self: flex-end;width: 50%;}div.sk-parallel-item:last-child::after {align-self: flex-start;width: 50%;}div.sk-parallel-item:only-child::after {width: 0;}div.sk-dashed-wrapped {border: 1px dashed gray;margin: 0.2em;box-sizing: border-box;padding-bottom: 0.1em;background-color: white;position: relative;}div.sk-label label {font-family: monospace;font-weight: bold;background-color: white;display: inline-block;line-height: 1.2em;}div.sk-label-container {position: relative;z-index: 2;text-align: center;}div.sk-container {display: inline-block;position: relative;}</style><div class=\"sk-top-container\"><div class=\"sk-container\"><div class=\"sk-item sk-dashed-wrapped\"><div class=\"sk-label-container\"><div class=\"sk-label sk-toggleable\"><input class=\"sk-toggleable__control sk-hidden--visually\" id=\"b76fd025-929b-4ced-82f5-2737f23f9690\" type=\"checkbox\" ><label class=\"sk-toggleable__label\" for=\"b76fd025-929b-4ced-82f5-2737f23f9690\">Pipeline</label><div class=\"sk-toggleable__content\"><pre>Pipeline(steps=[('preprocessor',\n",
       "                 ColumnTransformer(transformers=[('tweet_text',\n",
       "                                                  Pipeline(steps=[('squeeze',\n",
       "                                                                   FunctionTransformer(func=<function <lambda> at 0x000001EE7EA75D30>)),\n",
       "                                                                  ('vec',\n",
       "                                                                   CountVectorizer(max_df=0.9,\n",
       "                                                                                   min_df=0,\n",
       "                                                                                   ngram_range=(1,\n",
       "                                                                                                2))),\n",
       "                                                                  ('array',\n",
       "                                                                   FunctionTransformer(func=<function <lambda> at 0x000001EE7EA75DC0>))]),\n",
       "                                                  ['text'])])),\n",
       "                ('ros',\n",
       "                 RandomOverSampler(random_state=24,\n",
       "                                   sampling_strategy='not majority')),\n",
       "                ('compNB', ComplementNB(alpha=1))])</pre></div></div></div><div class=\"sk-serial\"><div class=\"sk-item sk-dashed-wrapped\"><div class=\"sk-label-container\"><div class=\"sk-label sk-toggleable\"><input class=\"sk-toggleable__control sk-hidden--visually\" id=\"2c654d1e-e674-4ced-a124-244cb71a6452\" type=\"checkbox\" ><label class=\"sk-toggleable__label\" for=\"2c654d1e-e674-4ced-a124-244cb71a6452\">preprocessor: ColumnTransformer</label><div class=\"sk-toggleable__content\"><pre>ColumnTransformer(transformers=[('tweet_text',\n",
       "                                 Pipeline(steps=[('squeeze',\n",
       "                                                  FunctionTransformer(func=<function <lambda> at 0x000001EE7EA75D30>)),\n",
       "                                                 ('vec',\n",
       "                                                  CountVectorizer(max_df=0.9,\n",
       "                                                                  min_df=0,\n",
       "                                                                  ngram_range=(1,\n",
       "                                                                               2))),\n",
       "                                                 ('array',\n",
       "                                                  FunctionTransformer(func=<function <lambda> at 0x000001EE7EA75DC0>))]),\n",
       "                                 ['text'])])</pre></div></div></div><div class=\"sk-parallel\"><div class=\"sk-parallel-item\"><div class=\"sk-item\"><div class=\"sk-label-container\"><div class=\"sk-label sk-toggleable\"><input class=\"sk-toggleable__control sk-hidden--visually\" id=\"10e16fb5-f350-477f-bfe3-99bf9d50aad5\" type=\"checkbox\" ><label class=\"sk-toggleable__label\" for=\"10e16fb5-f350-477f-bfe3-99bf9d50aad5\">tweet_text</label><div class=\"sk-toggleable__content\"><pre>['text']</pre></div></div></div><div class=\"sk-serial\"><div class=\"sk-item\"><div class=\"sk-serial\"><div class=\"sk-item\"><div class=\"sk-estimator sk-toggleable\"><input class=\"sk-toggleable__control sk-hidden--visually\" id=\"c3d11eec-e691-4d7f-8da9-82b32231067d\" type=\"checkbox\" ><label class=\"sk-toggleable__label\" for=\"c3d11eec-e691-4d7f-8da9-82b32231067d\">FunctionTransformer</label><div class=\"sk-toggleable__content\"><pre>FunctionTransformer(func=<function <lambda> at 0x000001EE7EA75D30>)</pre></div></div></div><div class=\"sk-item\"><div class=\"sk-estimator sk-toggleable\"><input class=\"sk-toggleable__control sk-hidden--visually\" id=\"988460f3-083c-43a0-ade6-7dd7160d7def\" type=\"checkbox\" ><label class=\"sk-toggleable__label\" for=\"988460f3-083c-43a0-ade6-7dd7160d7def\">CountVectorizer</label><div class=\"sk-toggleable__content\"><pre>CountVectorizer(max_df=0.9, min_df=0, ngram_range=(1, 2))</pre></div></div></div><div class=\"sk-item\"><div class=\"sk-estimator sk-toggleable\"><input class=\"sk-toggleable__control sk-hidden--visually\" id=\"d0ac914c-f488-41b3-b0e2-107bcbf8a4cf\" type=\"checkbox\" ><label class=\"sk-toggleable__label\" for=\"d0ac914c-f488-41b3-b0e2-107bcbf8a4cf\">FunctionTransformer</label><div class=\"sk-toggleable__content\"><pre>FunctionTransformer(func=<function <lambda> at 0x000001EE7EA75DC0>)</pre></div></div></div></div></div></div></div></div></div></div><div class=\"sk-item\"><div class=\"sk-estimator sk-toggleable\"><input class=\"sk-toggleable__control sk-hidden--visually\" id=\"32394ab7-46f8-4c86-9e49-dd72c9f0f169\" type=\"checkbox\" ><label class=\"sk-toggleable__label\" for=\"32394ab7-46f8-4c86-9e49-dd72c9f0f169\">RandomOverSampler</label><div class=\"sk-toggleable__content\"><pre>RandomOverSampler(random_state=24, sampling_strategy='not majority')</pre></div></div></div><div class=\"sk-item\"><div class=\"sk-estimator sk-toggleable\"><input class=\"sk-toggleable__control sk-hidden--visually\" id=\"1859a6cc-585c-4f36-b841-989935fa9c9a\" type=\"checkbox\" ><label class=\"sk-toggleable__label\" for=\"1859a6cc-585c-4f36-b841-989935fa9c9a\">ComplementNB</label><div class=\"sk-toggleable__content\"><pre>ComplementNB(alpha=1)</pre></div></div></div></div></div></div></div>"
      ],
      "text/plain": [
       "Pipeline(steps=[('preprocessor',\n",
       "                 ColumnTransformer(transformers=[('tweet_text',\n",
       "                                                  Pipeline(steps=[('squeeze',\n",
       "                                                                   FunctionTransformer(func=<function <lambda> at 0x000001EE7EA75D30>)),\n",
       "                                                                  ('vec',\n",
       "                                                                   CountVectorizer(max_df=0.9,\n",
       "                                                                                   min_df=0,\n",
       "                                                                                   ngram_range=(1,\n",
       "                                                                                                2))),\n",
       "                                                                  ('array',\n",
       "                                                                   FunctionTransformer(func=<function <lambda> at 0x000001EE7EA75DC0>))]),\n",
       "                                                  ['text'])])),\n",
       "                ('ros',\n",
       "                 RandomOverSampler(random_state=24,\n",
       "                                   sampling_strategy='not majority')),\n",
       "                ('compNB', ComplementNB(alpha=1))])"
      ]
     },
     "execution_count": 90,
     "metadata": {},
     "output_type": "execute_result"
    }
   ],
   "source": [
    "best_model_ComplementNB"
   ]
  },
  {
   "cell_type": "code",
   "execution_count": 87,
   "metadata": {},
   "outputs": [],
   "source": [
    "best_model_ComplementNB_pred = best_model_ComplementNB.predict(X_test_toframe)"
   ]
  },
  {
   "cell_type": "code",
   "execution_count": 88,
   "metadata": {},
   "outputs": [
    {
     "name": "stdout",
     "output_type": "stream",
     "text": [
      "              precision    recall  f1-score   support\n",
      "\n",
      "           0       0.50      0.70      0.59       347\n",
      "           1       0.61      0.73      0.66       475\n",
      "           2       0.90      0.77      0.83      1566\n",
      "\n",
      "    accuracy                           0.75      2388\n",
      "   macro avg       0.67      0.73      0.69      2388\n",
      "weighted avg       0.79      0.75      0.76      2388\n",
      "\n"
     ]
    }
   ],
   "source": [
    "print(classification_report(y_test, best_model_ComplementNB_pred))"
   ]
  },
  {
   "cell_type": "code",
   "execution_count": 89,
   "metadata": {},
   "outputs": [
    {
     "data": {
      "image/png": "[encoded data removed]",
      "text/plain": [
       "<Figure size 432x288 with 2 Axes>"
      ]
     },
     "metadata": {
      "needs_background": "light"
     },
     "output_type": "display_data"
    }
   ],
   "source": [
    "plot_confusion_matrix(best_model_ComplementNB, X_test_toframe,\n",
    "                      y_test);"
   ]
  },
  {
   "cell_type": "code",
   "execution_count": null,
   "metadata": {},
   "outputs": [],
   "source": []
  }
 ],
 "metadata": {
  "kernelspec": {
   "display_name": "Python (learn-env)",
   "language": "python",
   "name": "learn-env"
  },
  "language_info": {
   "codemirror_mode": {
    "name": "ipython",
    "version": 3
   },
   "file_extension": ".py",
   "mimetype": "text/x-python",
   "name": "python",
   "nbconvert_exporter": "python",
   "pygments_lexer": "ipython3",
   "version": "3.8.5"
  }
 },
 "nbformat": 4,
 "nbformat_minor": 4
}
