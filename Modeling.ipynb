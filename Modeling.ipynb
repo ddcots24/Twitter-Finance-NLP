{
 "cells": [
  {
   "cell_type": "markdown",
   "metadata": {},
   "source": [
    "## Business Understanding"
   ]
  },
  {
   "cell_type": "markdown",
   "metadata": {},
   "source": [
    "**StakeHolder**: A **novice investor** who is following financial news on twitter\n"
   ]
  },
  {
   "cell_type": "code",
   "execution_count": 13,
   "metadata": {},
   "outputs": [],
   "source": [
    "# Importing all important packages for modeling\n",
    "import numpy as np\n",
    "import pandas as pd\n",
    "import nltk\n",
    "from nltk.tokenize import regexp_tokenize, word_tokenize, RegexpTokenizer\n",
    "from nltk.corpus import stopwords, wordnet\n",
    "from nltk import pos_tag\n",
    "from nltk.stem import WordNetLemmatizer\n",
    "from sklearn.ensemble import RandomForestClassifier\n",
    "from sklearn.naive_bayes import MultinomialNB\n",
    "from sklearn.metrics import accuracy_score, precision_score, confusion_matrix\n",
    "from sklearn.metrics import plot_confusion_matrix\n",
    "from sklearn.metrics import classification_report\n",
    "from sklearn.metrics import plot_roc_curve\n",
    "from sklearn.metrics import roc_auc_score\n",
    "from sklearn.preprocessing import FunctionTransformer\n",
    "from sklearn.compose import ColumnTransformer\n",
    "from sklearn.base import BaseEstimator, TransformerMixin\n",
    "from imblearn.pipeline import Pipeline\n",
    "from sklearn.feature_extraction.text import CountVectorizer\n",
    "from imblearn.over_sampling import RandomOverSampler, SMOTE\n",
    "from sklearn.naive_bayes import ComplementNB\n",
    "from sklearn.ensemble import RandomForestClassifier\n",
    "from sklearn import set_config\n",
    "from sklearn.model_selection import GridSearchCV\n",
    "set_config(display='diagram')\n",
    "stop_words = stopwords.words('english')\n",
    "stop_words.append('https')"
   ]
  },
  {
   "cell_type": "markdown",
   "metadata": {},
   "source": [
    "### Preprocessing the Text Data"
   ]
  },
  {
   "cell_type": "code",
   "execution_count": 2,
   "metadata": {},
   "outputs": [],
   "source": [
    "# Creating a class that allows text to be preprocessed \n",
    "class TextPreprocessor(BaseEstimator, TransformerMixin):\n",
    "    \n",
    "    def __init__(self):\n",
    "        \n",
    "        # define attributes to store if text preprocessing requires fitting from data\n",
    "        pass\n",
    "    \n",
    "    def fit(self, data, y = 0):\n",
    "        \n",
    "        # this is where you would fit corpus specific stopwords\n",
    "        # fit probable bigrams with bigram model in here\n",
    "        # save as parameters of Text preprocessor\n",
    "        return self\n",
    "    \n",
    "    def transform(self, data, y = 0):\n",
    "        normalized_corpus = data.apply(self.process_doc)\n",
    "        \n",
    "        return normalized_corpus\n",
    "        \n",
    "    def process_doc(self, doc):\n",
    "        \n",
    "        # Initialize lemmatizer\n",
    "        wnl = WordNetLemmatizer()\n",
    "        stop_words = stopwords.words('english')\n",
    "        \n",
    "        # helper function to change nltk's part of speech tagging to a wordnet format.\n",
    "        def pos_tagger(nltk_tag):\n",
    "            if nltk_tag.startswith('J'):\n",
    "                return wordnet.ADJ\n",
    "            elif nltk_tag.startswith('V'):\n",
    "                return wordnet.VERB\n",
    "            elif nltk_tag.startswith('N'):\n",
    "                return wordnet.NOUN\n",
    "            elif nltk_tag.startswith('R'):\n",
    "                return wordnet.ADV\n",
    "            else:         \n",
    "                return None\n",
    "        \n",
    "        \n",
    "        # remove stop words and punctuations, then lower case\n",
    "        doc_norm = [tok.lower() for tok in word_tokenize(doc) if ((tok.isalpha()) & (tok.lower() not in stop_words)) ]\n",
    "        \n",
    "        # POS detection on the result will be important in telling Wordnet's lemmatizer how to lemmatize\n",
    "        \n",
    "        # creates list of tuples with tokens and POS tags in wordnet format\n",
    "        wordnet_tagged = list(map(lambda x: (x[0], pos_tagger(x[1])), pos_tag(doc_norm))) \n",
    "        doc_norm = [wnl.lemmatize(token, pos) for token, pos in wordnet_tagged if pos is not None]\n",
    "\n",
    "        return \" \".join(doc_norm)"
   ]
  },
  {
   "cell_type": "code",
   "execution_count": 3,
   "metadata": {},
   "outputs": [],
   "source": [
    "# Uploading the necessary train and test data\n",
    "# The data I used was already split into test and train\n",
    "train= pd.read_csv('sent_train.csv')\n",
    "test = pd.read_csv('sent_valid.csv')\n",
    "X_train = train['text']\n",
    "X_test = test['text']\n",
    "y_train = train['label']\n",
    "y_test = test['label']"
   ]
  },
  {
   "cell_type": "code",
   "execution_count": 4,
   "metadata": {},
   "outputs": [],
   "source": [
    "# Instantiating the textpreprocessor and fitting/ transforming my X_train\n",
    "processor = TextPreprocessor()\n",
    "X_train_transformed = processor.fit_transform(X_train)"
   ]
  },
  {
   "cell_type": "code",
   "execution_count": 5,
   "metadata": {},
   "outputs": [],
   "source": [
    "# Converting X_train to dataframe so it can be fit in the pipeline\n",
    "X_train_frame = X_train_transformed.to_frame()"
   ]
  },
  {
   "cell_type": "markdown",
   "metadata": {},
   "source": [
    "### First Simple Model (FSM) - Complement Naive Bayes"
   ]
  },
  {
   "cell_type": "code",
   "execution_count": 49,
   "metadata": {},
   "outputs": [],
   "source": [
    "# Creating a pipeline for my model using the complement Naive Bayes because there is a class imbalance\n",
    "Tweet_text_transformer = Pipeline(steps = [\n",
    "    (\"squeeze\", FunctionTransformer(lambda x: x.squeeze())),\n",
    "    (\"vec\", CountVectorizer()),\n",
    "    (\"array\", FunctionTransformer(lambda x: x.toarray()))\n",
    "])\n",
    "\n",
    "preprocessor = ColumnTransformer(transformers = [\n",
    "    ('tweet_text', Tweet_text_transformer, ['text'])])\n",
    "\n",
    "steps = [('preprocessor', preprocessor), ('ros', RandomOverSampler(random_state = 24, sampling_strategy = 'not majority')), \n",
    "         ('compNB', ComplementNB())]\n",
    "\n",
    "model_pipe = Pipeline(steps)"
   ]
  },
  {
   "cell_type": "code",
   "execution_count": 50,
   "metadata": {},
   "outputs": [
    {
     "data": {
      "text/html": [
       "<style>div.sk-top-container {color: black;background-color: white;}div.sk-toggleable {background-color: white;}label.sk-toggleable__label {cursor: pointer;display: block;width: 100%;margin-bottom: 0;padding: 0.2em 0.3em;box-sizing: border-box;text-align: center;}div.sk-toggleable__content {max-height: 0;max-width: 0;overflow: hidden;text-align: left;background-color: #f0f8ff;}div.sk-toggleable__content pre {margin: 0.2em;color: black;border-radius: 0.25em;background-color: #f0f8ff;}input.sk-toggleable__control:checked~div.sk-toggleable__content {max-height: 200px;max-width: 100%;overflow: auto;}div.sk-estimator input.sk-toggleable__control:checked~label.sk-toggleable__label {background-color: #d4ebff;}div.sk-label input.sk-toggleable__control:checked~label.sk-toggleable__label {background-color: #d4ebff;}input.sk-hidden--visually {border: 0;clip: rect(1px 1px 1px 1px);clip: rect(1px, 1px, 1px, 1px);height: 1px;margin: -1px;overflow: hidden;padding: 0;position: absolute;width: 1px;}div.sk-estimator {font-family: monospace;background-color: #f0f8ff;margin: 0.25em 0.25em;border: 1px dotted black;border-radius: 0.25em;box-sizing: border-box;}div.sk-estimator:hover {background-color: #d4ebff;}div.sk-parallel-item::after {content: \"\";width: 100%;border-bottom: 1px solid gray;flex-grow: 1;}div.sk-label:hover label.sk-toggleable__label {background-color: #d4ebff;}div.sk-serial::before {content: \"\";position: absolute;border-left: 1px solid gray;box-sizing: border-box;top: 2em;bottom: 0;left: 50%;}div.sk-serial {display: flex;flex-direction: column;align-items: center;background-color: white;}div.sk-item {z-index: 1;}div.sk-parallel {display: flex;align-items: stretch;justify-content: center;background-color: white;}div.sk-parallel-item {display: flex;flex-direction: column;position: relative;background-color: white;}div.sk-parallel-item:first-child::after {align-self: flex-end;width: 50%;}div.sk-parallel-item:last-child::after {align-self: flex-start;width: 50%;}div.sk-parallel-item:only-child::after {width: 0;}div.sk-dashed-wrapped {border: 1px dashed gray;margin: 0.2em;box-sizing: border-box;padding-bottom: 0.1em;background-color: white;position: relative;}div.sk-label label {font-family: monospace;font-weight: bold;background-color: white;display: inline-block;line-height: 1.2em;}div.sk-label-container {position: relative;z-index: 2;text-align: center;}div.sk-container {display: inline-block;position: relative;}</style><div class=\"sk-top-container\"><div class=\"sk-container\"><div class=\"sk-item sk-dashed-wrapped\"><div class=\"sk-label-container\"><div class=\"sk-label sk-toggleable\"><input class=\"sk-toggleable__control sk-hidden--visually\" id=\"dd2acaaf-4001-4da3-b21e-06cc770152f1\" type=\"checkbox\" ><label class=\"sk-toggleable__label\" for=\"dd2acaaf-4001-4da3-b21e-06cc770152f1\">Pipeline</label><div class=\"sk-toggleable__content\"><pre>Pipeline(steps=[('preprocessor',\n",
       "                 ColumnTransformer(transformers=[('tweet_text',\n",
       "                                                  Pipeline(steps=[('squeeze',\n",
       "                                                                   FunctionTransformer(func=<function <lambda> at 0x000001D131630C10>)),\n",
       "                                                                  ('vec',\n",
       "                                                                   CountVectorizer()),\n",
       "                                                                  ('array',\n",
       "                                                                   FunctionTransformer(func=<function <lambda> at 0x000001D10E254940>))]),\n",
       "                                                  ['text'])])),\n",
       "                ('ros',\n",
       "                 RandomOverSampler(random_state=24,\n",
       "                                   sampling_strategy='not majority')),\n",
       "                ('compNB', ComplementNB())])</pre></div></div></div><div class=\"sk-serial\"><div class=\"sk-item sk-dashed-wrapped\"><div class=\"sk-label-container\"><div class=\"sk-label sk-toggleable\"><input class=\"sk-toggleable__control sk-hidden--visually\" id=\"1f116389-dca6-4896-8cb3-e82aa22e23e7\" type=\"checkbox\" ><label class=\"sk-toggleable__label\" for=\"1f116389-dca6-4896-8cb3-e82aa22e23e7\">preprocessor: ColumnTransformer</label><div class=\"sk-toggleable__content\"><pre>ColumnTransformer(transformers=[('tweet_text',\n",
       "                                 Pipeline(steps=[('squeeze',\n",
       "                                                  FunctionTransformer(func=<function <lambda> at 0x000001D131630C10>)),\n",
       "                                                 ('vec', CountVectorizer()),\n",
       "                                                 ('array',\n",
       "                                                  FunctionTransformer(func=<function <lambda> at 0x000001D10E254940>))]),\n",
       "                                 ['text'])])</pre></div></div></div><div class=\"sk-parallel\"><div class=\"sk-parallel-item\"><div class=\"sk-item\"><div class=\"sk-label-container\"><div class=\"sk-label sk-toggleable\"><input class=\"sk-toggleable__control sk-hidden--visually\" id=\"2a526ddf-6620-4e66-8ad3-bbcc5987415f\" type=\"checkbox\" ><label class=\"sk-toggleable__label\" for=\"2a526ddf-6620-4e66-8ad3-bbcc5987415f\">tweet_text</label><div class=\"sk-toggleable__content\"><pre>['text']</pre></div></div></div><div class=\"sk-serial\"><div class=\"sk-item\"><div class=\"sk-serial\"><div class=\"sk-item\"><div class=\"sk-estimator sk-toggleable\"><input class=\"sk-toggleable__control sk-hidden--visually\" id=\"27ff24d8-bf52-4f8e-a025-b250517246ef\" type=\"checkbox\" ><label class=\"sk-toggleable__label\" for=\"27ff24d8-bf52-4f8e-a025-b250517246ef\">FunctionTransformer</label><div class=\"sk-toggleable__content\"><pre>FunctionTransformer(func=<function <lambda> at 0x000001D131630C10>)</pre></div></div></div><div class=\"sk-item\"><div class=\"sk-estimator sk-toggleable\"><input class=\"sk-toggleable__control sk-hidden--visually\" id=\"0e12dde7-cdbd-49fb-8d00-ea63c5e8ca70\" type=\"checkbox\" ><label class=\"sk-toggleable__label\" for=\"0e12dde7-cdbd-49fb-8d00-ea63c5e8ca70\">CountVectorizer</label><div class=\"sk-toggleable__content\"><pre>CountVectorizer()</pre></div></div></div><div class=\"sk-item\"><div class=\"sk-estimator sk-toggleable\"><input class=\"sk-toggleable__control sk-hidden--visually\" id=\"c0c2d0c1-f944-4237-a18b-ed4b100ae062\" type=\"checkbox\" ><label class=\"sk-toggleable__label\" for=\"c0c2d0c1-f944-4237-a18b-ed4b100ae062\">FunctionTransformer</label><div class=\"sk-toggleable__content\"><pre>FunctionTransformer(func=<function <lambda> at 0x000001D10E254940>)</pre></div></div></div></div></div></div></div></div></div></div><div class=\"sk-item\"><div class=\"sk-estimator sk-toggleable\"><input class=\"sk-toggleable__control sk-hidden--visually\" id=\"f61bbed4-ba98-459c-86f5-03f253b8d844\" type=\"checkbox\" ><label class=\"sk-toggleable__label\" for=\"f61bbed4-ba98-459c-86f5-03f253b8d844\">RandomOverSampler</label><div class=\"sk-toggleable__content\"><pre>RandomOverSampler(random_state=24, sampling_strategy='not majority')</pre></div></div></div><div class=\"sk-item\"><div class=\"sk-estimator sk-toggleable\"><input class=\"sk-toggleable__control sk-hidden--visually\" id=\"638fcbc9-b81c-4dbc-ab24-abfaeabca5c7\" type=\"checkbox\" ><label class=\"sk-toggleable__label\" for=\"638fcbc9-b81c-4dbc-ab24-abfaeabca5c7\">ComplementNB</label><div class=\"sk-toggleable__content\"><pre>ComplementNB()</pre></div></div></div></div></div></div></div>"
      ],
      "text/plain": [
       "Pipeline(steps=[('preprocessor',\n",
       "                 ColumnTransformer(transformers=[('tweet_text',\n",
       "                                                  Pipeline(steps=[('squeeze',\n",
       "                                                                   FunctionTransformer(func=<function <lambda> at 0x000001D131630C10>)),\n",
       "                                                                  ('vec',\n",
       "                                                                   CountVectorizer()),\n",
       "                                                                  ('array',\n",
       "                                                                   FunctionTransformer(func=<function <lambda> at 0x000001D10E254940>))]),\n",
       "                                                  ['text'])])),\n",
       "                ('ros',\n",
       "                 RandomOverSampler(random_state=24,\n",
       "                                   sampling_strategy='not majority')),\n",
       "                ('compNB', ComplementNB())])"
      ]
     },
     "execution_count": 50,
     "metadata": {},
     "output_type": "execute_result"
    }
   ],
   "source": [
    "# fitting the model\n",
    "model_pipe.fit(X_train_frame, y_train)"
   ]
  },
  {
   "cell_type": "code",
   "execution_count": 58,
   "metadata": {},
   "outputs": [
    {
     "data": {
      "text/plain": [
       "0.8651367494498585"
      ]
     },
     "execution_count": 58,
     "metadata": {},
     "output_type": "execute_result"
    }
   ],
   "source": [
    "# Finding the model train score\n",
    "model_pipe.score(X_train_frame, y_train)"
   ]
  },
  {
   "cell_type": "code",
   "execution_count": 48,
   "metadata": {},
   "outputs": [
    {
     "name": "stdout",
     "output_type": "stream",
     "text": [
      "              precision    recall  f1-score   support\n",
      "\n",
      "           0       0.46      0.71      0.56       347\n",
      "           1       0.57      0.68      0.62       475\n",
      "           2       0.90      0.74      0.81      1566\n",
      "\n",
      "    accuracy                           0.72      2388\n",
      "   macro avg       0.64      0.71      0.66      2388\n",
      "weighted avg       0.77      0.72      0.74      2388\n",
      "\n"
     ]
    }
   ],
   "source": [
    "#Finding the model test score\n",
    "X_test_transformed = processor.transform(X_test)\n",
    "X_test_toframe = X_test_transformed.to_frame()\n",
    "y_pred = model_pipe.predict(X_test_toframe)\n",
    "print(classification_report(y_test, y_pred))"
   ]
  },
  {
   "cell_type": "code",
   "execution_count": 11,
   "metadata": {},
   "outputs": [
    {
     "data": {
      "image/png": "[encoded data removed]",
      "text/plain": [
       "<Figure size 432x288 with 2 Axes>"
      ]
     },
     "metadata": {
      "needs_background": "light"
     },
     "output_type": "display_data"
    }
   ],
   "source": [
    "# Plotting a confusion matrix to display the accuracy of my model on the test data\n",
    "plot_confusion_matrix(model_pipe, X_test_toframe,\n",
    "                      y_test);"
   ]
  },
  {
   "cell_type": "markdown",
   "metadata": {},
   "source": [
    "**Based on the models train score and the models test score it seems to be over fitting a little bit. In my next model I am going to hyper parameter tune to see if that helps regularization.**"
   ]
  },
  {
   "cell_type": "markdown",
   "metadata": {},
   "source": [
    "### Hyper Parameter Tuning the FSM"
   ]
  },
  {
   "cell_type": "code",
   "execution_count": 34,
   "metadata": {},
   "outputs": [],
   "source": [
    "# Grid searching on the given paramters and instantiating GridSearchCV\n",
    "gridparams =  [{'compNB__alpha' : [1, .8, .85, .9, .95],\n",
    "         'ros__sampling_strategy': ['not majority'],\n",
    "               'preprocessor__tweet_text__vec__max_df': [.95, .8, .7, .6],\n",
    "               'preprocessor__tweet_text__vec__min_df': [0, .05, .1, .2],\n",
    "               'preprocessor__tweet_text__vec__ngram_range': [(1,1),(1,2)]}\n",
    "       ]\n",
    "GridSearch = GridSearchCV(model_pipe, param_grid = gridparams, scoring= 'f1_weighted', cv = 3)"
   ]
  },
  {
   "cell_type": "code",
   "execution_count": 36,
   "metadata": {
    "scrolled": true
   },
   "outputs": [
    {
     "data": {
      "text/html": [
       "<style>div.sk-top-container {color: black;background-color: white;}div.sk-toggleable {background-color: white;}label.sk-toggleable__label {cursor: pointer;display: block;width: 100%;margin-bottom: 0;padding: 0.2em 0.3em;box-sizing: border-box;text-align: center;}div.sk-toggleable__content {max-height: 0;max-width: 0;overflow: hidden;text-align: left;background-color: #f0f8ff;}div.sk-toggleable__content pre {margin: 0.2em;color: black;border-radius: 0.25em;background-color: #f0f8ff;}input.sk-toggleable__control:checked~div.sk-toggleable__content {max-height: 200px;max-width: 100%;overflow: auto;}div.sk-estimator input.sk-toggleable__control:checked~label.sk-toggleable__label {background-color: #d4ebff;}div.sk-label input.sk-toggleable__control:checked~label.sk-toggleable__label {background-color: #d4ebff;}input.sk-hidden--visually {border: 0;clip: rect(1px 1px 1px 1px);clip: rect(1px, 1px, 1px, 1px);height: 1px;margin: -1px;overflow: hidden;padding: 0;position: absolute;width: 1px;}div.sk-estimator {font-family: monospace;background-color: #f0f8ff;margin: 0.25em 0.25em;border: 1px dotted black;border-radius: 0.25em;box-sizing: border-box;}div.sk-estimator:hover {background-color: #d4ebff;}div.sk-parallel-item::after {content: \"\";width: 100%;border-bottom: 1px solid gray;flex-grow: 1;}div.sk-label:hover label.sk-toggleable__label {background-color: #d4ebff;}div.sk-serial::before {content: \"\";position: absolute;border-left: 1px solid gray;box-sizing: border-box;top: 2em;bottom: 0;left: 50%;}div.sk-serial {display: flex;flex-direction: column;align-items: center;background-color: white;}div.sk-item {z-index: 1;}div.sk-parallel {display: flex;align-items: stretch;justify-content: center;background-color: white;}div.sk-parallel-item {display: flex;flex-direction: column;position: relative;background-color: white;}div.sk-parallel-item:first-child::after {align-self: flex-end;width: 50%;}div.sk-parallel-item:last-child::after {align-self: flex-start;width: 50%;}div.sk-parallel-item:only-child::after {width: 0;}div.sk-dashed-wrapped {border: 1px dashed gray;margin: 0.2em;box-sizing: border-box;padding-bottom: 0.1em;background-color: white;position: relative;}div.sk-label label {font-family: monospace;font-weight: bold;background-color: white;display: inline-block;line-height: 1.2em;}div.sk-label-container {position: relative;z-index: 2;text-align: center;}div.sk-container {display: inline-block;position: relative;}</style><div class=\"sk-top-container\"><div class=\"sk-container\"><div class=\"sk-item sk-dashed-wrapped\"><div class=\"sk-label-container\"><div class=\"sk-label sk-toggleable\"><input class=\"sk-toggleable__control sk-hidden--visually\" id=\"63578a1e-44c2-4630-ba8d-16106530324d\" type=\"checkbox\" ><label class=\"sk-toggleable__label\" for=\"63578a1e-44c2-4630-ba8d-16106530324d\">GridSearchCV</label><div class=\"sk-toggleable__content\"><pre>GridSearchCV(cv=3,\n",
       "             estimator=Pipeline(steps=[('preprocessor',\n",
       "                                        ColumnTransformer(transformers=[('tweet_text',\n",
       "                                                                         Pipeline(steps=[('squeeze',\n",
       "                                                                                          FunctionTransformer(func=<function <lambda> at 0x000001D135B3BD30>)),\n",
       "                                                                                         ('vec',\n",
       "                                                                                          CountVectorizer()),\n",
       "                                                                                         ('array',\n",
       "                                                                                          FunctionTransformer(func=<function <lambda> at 0x000001D135B3BC10>))]),\n",
       "                                                                         ['text'])])),\n",
       "                                       ('ros',\n",
       "                                        RandomOverSampler(random_sta...\n",
       "                                                          sampling_strategy='not '\n",
       "                                                                            'majority')),\n",
       "                                       ('compNB', ComplementNB())]),\n",
       "             param_grid=[{'compNB__alpha': [1, 0.8, 0.85, 0.9, 0.95],\n",
       "                          'preprocessor__tweet_text__vec__max_df': [0.95, 0.8,\n",
       "                                                                    0.7, 0.6],\n",
       "                          'preprocessor__tweet_text__vec__min_df': [0, 0.05,\n",
       "                                                                    0.1, 0.2],\n",
       "                          'preprocessor__tweet_text__vec__ngram_range': [(1, 1),\n",
       "                                                                         (1,\n",
       "                                                                          2)],\n",
       "                          'ros__sampling_strategy': ['not majority']}],\n",
       "             scoring='f1_weighted')</pre></div></div></div><div class=\"sk-parallel\"><div class=\"sk-parallel-item\"><div class=\"sk-item\"><div class=\"sk-serial\"><div class=\"sk-item\"><div class=\"sk-serial\"><div class=\"sk-item sk-dashed-wrapped\"><div class=\"sk-label-container\"><div class=\"sk-label sk-toggleable\"><input class=\"sk-toggleable__control sk-hidden--visually\" id=\"0b4b2cb0-99d0-4e65-ae6b-82c48f0f5224\" type=\"checkbox\" ><label class=\"sk-toggleable__label\" for=\"0b4b2cb0-99d0-4e65-ae6b-82c48f0f5224\">preprocessor: ColumnTransformer</label><div class=\"sk-toggleable__content\"><pre>ColumnTransformer(transformers=[('tweet_text',\n",
       "                                 Pipeline(steps=[('squeeze',\n",
       "                                                  FunctionTransformer(func=<function <lambda> at 0x000001D135B3BD30>)),\n",
       "                                                 ('vec', CountVectorizer()),\n",
       "                                                 ('array',\n",
       "                                                  FunctionTransformer(func=<function <lambda> at 0x000001D135B3BC10>))]),\n",
       "                                 ['text'])])</pre></div></div></div><div class=\"sk-parallel\"><div class=\"sk-parallel-item\"><div class=\"sk-item\"><div class=\"sk-label-container\"><div class=\"sk-label sk-toggleable\"><input class=\"sk-toggleable__control sk-hidden--visually\" id=\"4d9abedd-38d3-4875-aee7-5bdb2d1e8cc7\" type=\"checkbox\" ><label class=\"sk-toggleable__label\" for=\"4d9abedd-38d3-4875-aee7-5bdb2d1e8cc7\">tweet_text</label><div class=\"sk-toggleable__content\"><pre>['text']</pre></div></div></div><div class=\"sk-serial\"><div class=\"sk-item\"><div class=\"sk-serial\"><div class=\"sk-item\"><div class=\"sk-estimator sk-toggleable\"><input class=\"sk-toggleable__control sk-hidden--visually\" id=\"063ee408-cbf3-44a2-97dd-dd4527f9fecc\" type=\"checkbox\" ><label class=\"sk-toggleable__label\" for=\"063ee408-cbf3-44a2-97dd-dd4527f9fecc\">FunctionTransformer</label><div class=\"sk-toggleable__content\"><pre>FunctionTransformer(func=<function <lambda> at 0x000001D135B3BD30>)</pre></div></div></div><div class=\"sk-item\"><div class=\"sk-estimator sk-toggleable\"><input class=\"sk-toggleable__control sk-hidden--visually\" id=\"a1e4eae1-bd75-4878-9a89-9c65cf842459\" type=\"checkbox\" ><label class=\"sk-toggleable__label\" for=\"a1e4eae1-bd75-4878-9a89-9c65cf842459\">CountVectorizer</label><div class=\"sk-toggleable__content\"><pre>CountVectorizer()</pre></div></div></div><div class=\"sk-item\"><div class=\"sk-estimator sk-toggleable\"><input class=\"sk-toggleable__control sk-hidden--visually\" id=\"d07e0e05-befc-499e-9f5e-046ecfb0c437\" type=\"checkbox\" ><label class=\"sk-toggleable__label\" for=\"d07e0e05-befc-499e-9f5e-046ecfb0c437\">FunctionTransformer</label><div class=\"sk-toggleable__content\"><pre>FunctionTransformer(func=<function <lambda> at 0x000001D135B3BC10>)</pre></div></div></div></div></div></div></div></div></div></div><div class=\"sk-item\"><div class=\"sk-estimator sk-toggleable\"><input class=\"sk-toggleable__control sk-hidden--visually\" id=\"739a1519-fbbc-4ae9-be01-09cb8190d5f1\" type=\"checkbox\" ><label class=\"sk-toggleable__label\" for=\"739a1519-fbbc-4ae9-be01-09cb8190d5f1\">RandomOverSampler</label><div class=\"sk-toggleable__content\"><pre>RandomOverSampler(random_state=24, sampling_strategy='not majority')</pre></div></div></div><div class=\"sk-item\"><div class=\"sk-estimator sk-toggleable\"><input class=\"sk-toggleable__control sk-hidden--visually\" id=\"d84717f0-c25d-4fe8-9237-5767203e4a95\" type=\"checkbox\" ><label class=\"sk-toggleable__label\" for=\"d84717f0-c25d-4fe8-9237-5767203e4a95\">ComplementNB</label><div class=\"sk-toggleable__content\"><pre>ComplementNB()</pre></div></div></div></div></div></div></div></div></div></div></div></div>"
      ],
      "text/plain": [
       "GridSearchCV(cv=3,\n",
       "             estimator=Pipeline(steps=[('preprocessor',\n",
       "                                        ColumnTransformer(transformers=[('tweet_text',\n",
       "                                                                         Pipeline(steps=[('squeeze',\n",
       "                                                                                          FunctionTransformer(func=<function <lambda> at 0x000001D135B3BD30>)),\n",
       "                                                                                         ('vec',\n",
       "                                                                                          CountVectorizer()),\n",
       "                                                                                         ('array',\n",
       "                                                                                          FunctionTransformer(func=<function <lambda> at 0x000001D135B3BC10>))]),\n",
       "                                                                         ['text'])])),\n",
       "                                       ('ros',\n",
       "                                        RandomOverSampler(random_sta...\n",
       "                                                          sampling_strategy='not '\n",
       "                                                                            'majority')),\n",
       "                                       ('compNB', ComplementNB())]),\n",
       "             param_grid=[{'compNB__alpha': [1, 0.8, 0.85, 0.9, 0.95],\n",
       "                          'preprocessor__tweet_text__vec__max_df': [0.95, 0.8,\n",
       "                                                                    0.7, 0.6],\n",
       "                          'preprocessor__tweet_text__vec__min_df': [0, 0.05,\n",
       "                                                                    0.1, 0.2],\n",
       "                          'preprocessor__tweet_text__vec__ngram_range': [(1, 1),\n",
       "                                                                         (1,\n",
       "                                                                          2)],\n",
       "                          'ros__sampling_strategy': ['not majority']}],\n",
       "             scoring='f1_weighted')"
      ]
     },
     "execution_count": 36,
     "metadata": {},
     "output_type": "execute_result"
    }
   ],
   "source": [
    "# Fitting the model to the training data \n",
    "GridSearch.fit(X_train_frame, y_train)"
   ]
  },
  {
   "cell_type": "code",
   "execution_count": 59,
   "metadata": {},
   "outputs": [
    {
     "data": {
      "text/plain": [
       "0.9658388347479828"
      ]
     },
     "execution_count": 59,
     "metadata": {},
     "output_type": "execute_result"
    }
   ],
   "source": [
    "# The model performed extremely well on the train data\n",
    "best_model_ComplementNB = GridSearch.best_estimator_\n",
    "best_model_ComplementNB.score(X_train_frame, y_train)"
   ]
  },
  {
   "cell_type": "code",
   "execution_count": 60,
   "metadata": {},
   "outputs": [
    {
     "name": "stdout",
     "output_type": "stream",
     "text": [
      "              precision    recall  f1-score   support\n",
      "\n",
      "           0       0.50      0.70      0.59       347\n",
      "           1       0.61      0.73      0.66       475\n",
      "           2       0.90      0.77      0.83      1566\n",
      "\n",
      "    accuracy                           0.75      2388\n",
      "   macro avg       0.67      0.73      0.69      2388\n",
      "weighted avg       0.79      0.75      0.76      2388\n",
      "\n"
     ]
    }
   ],
   "source": [
    "# However the model did not perform well on the test data\n",
    "best_model_ComplementNB_pred = best_model_ComplementNB.predict(X_test_toframe)\n",
    "print(classification_report(y_test, best_model_ComplementNB_pred))"
   ]
  },
  {
   "cell_type": "markdown",
   "metadata": {},
   "source": [
    "**Hyper Paramter tuning the complement Naive Bayes model just made it extremely more overfit. Going to switch over to a different classifier to make it easier to regularize.**"
   ]
  },
  {
   "cell_type": "markdown",
   "metadata": {},
   "source": [
    "### Random Forest Model"
   ]
  },
  {
   "cell_type": "code",
   "execution_count": 19,
   "metadata": {},
   "outputs": [],
   "source": [
    "# Using the same pipeline as before by using a Random Forest Classifier\n",
    "Tweet_text_transformer = Pipeline(steps = [\n",
    "    (\"squeeze\", FunctionTransformer(lambda x: x.squeeze())),\n",
    "    (\"vec\", CountVectorizer()),\n",
    "    (\"array\", FunctionTransformer(lambda x: x.toarray()))\n",
    "])\n",
    "\n",
    "preprocessor = ColumnTransformer(transformers = [\n",
    "    ('tweet_text', Tweet_text_transformer, ['text'])])\n",
    "\n",
    "steps = [('preprocessor', preprocessor), ('ros', RandomOverSampler(random_state = 24, sampling_strategy = 'not majority')), \n",
    "         ('rf', RandomForestClassifier(random_state = 24, max_depth = 4))]\n",
    "\n",
    "rfmodel_pipe = Pipeline(steps)"
   ]
  },
  {
   "cell_type": "code",
   "execution_count": 20,
   "metadata": {},
   "outputs": [
    {
     "data": {
      "text/html": [
       "<style>div.sk-top-container {color: black;background-color: white;}div.sk-toggleable {background-color: white;}label.sk-toggleable__label {cursor: pointer;display: block;width: 100%;margin-bottom: 0;padding: 0.2em 0.3em;box-sizing: border-box;text-align: center;}div.sk-toggleable__content {max-height: 0;max-width: 0;overflow: hidden;text-align: left;background-color: #f0f8ff;}div.sk-toggleable__content pre {margin: 0.2em;color: black;border-radius: 0.25em;background-color: #f0f8ff;}input.sk-toggleable__control:checked~div.sk-toggleable__content {max-height: 200px;max-width: 100%;overflow: auto;}div.sk-estimator input.sk-toggleable__control:checked~label.sk-toggleable__label {background-color: #d4ebff;}div.sk-label input.sk-toggleable__control:checked~label.sk-toggleable__label {background-color: #d4ebff;}input.sk-hidden--visually {border: 0;clip: rect(1px 1px 1px 1px);clip: rect(1px, 1px, 1px, 1px);height: 1px;margin: -1px;overflow: hidden;padding: 0;position: absolute;width: 1px;}div.sk-estimator {font-family: monospace;background-color: #f0f8ff;margin: 0.25em 0.25em;border: 1px dotted black;border-radius: 0.25em;box-sizing: border-box;}div.sk-estimator:hover {background-color: #d4ebff;}div.sk-parallel-item::after {content: \"\";width: 100%;border-bottom: 1px solid gray;flex-grow: 1;}div.sk-label:hover label.sk-toggleable__label {background-color: #d4ebff;}div.sk-serial::before {content: \"\";position: absolute;border-left: 1px solid gray;box-sizing: border-box;top: 2em;bottom: 0;left: 50%;}div.sk-serial {display: flex;flex-direction: column;align-items: center;background-color: white;}div.sk-item {z-index: 1;}div.sk-parallel {display: flex;align-items: stretch;justify-content: center;background-color: white;}div.sk-parallel-item {display: flex;flex-direction: column;position: relative;background-color: white;}div.sk-parallel-item:first-child::after {align-self: flex-end;width: 50%;}div.sk-parallel-item:last-child::after {align-self: flex-start;width: 50%;}div.sk-parallel-item:only-child::after {width: 0;}div.sk-dashed-wrapped {border: 1px dashed gray;margin: 0.2em;box-sizing: border-box;padding-bottom: 0.1em;background-color: white;position: relative;}div.sk-label label {font-family: monospace;font-weight: bold;background-color: white;display: inline-block;line-height: 1.2em;}div.sk-label-container {position: relative;z-index: 2;text-align: center;}div.sk-container {display: inline-block;position: relative;}</style><div class=\"sk-top-container\"><div class=\"sk-container\"><div class=\"sk-item sk-dashed-wrapped\"><div class=\"sk-label-container\"><div class=\"sk-label sk-toggleable\"><input class=\"sk-toggleable__control sk-hidden--visually\" id=\"5e197b01-dd8a-4c39-994c-ea663b0ef076\" type=\"checkbox\" ><label class=\"sk-toggleable__label\" for=\"5e197b01-dd8a-4c39-994c-ea663b0ef076\">Pipeline</label><div class=\"sk-toggleable__content\"><pre>Pipeline(steps=[('preprocessor',\n",
       "                 ColumnTransformer(transformers=[('tweet_text',\n",
       "                                                  Pipeline(steps=[('squeeze',\n",
       "                                                                   FunctionTransformer(func=<function <lambda> at 0x000001D173F903A0>)),\n",
       "                                                                  ('vec',\n",
       "                                                                   CountVectorizer()),\n",
       "                                                                  ('array',\n",
       "                                                                   FunctionTransformer(func=<function <lambda> at 0x000001D173F90430>))]),\n",
       "                                                  ['text'])])),\n",
       "                ('ros',\n",
       "                 RandomOverSampler(random_state=24,\n",
       "                                   sampling_strategy='not majority')),\n",
       "                ('rf', RandomForestClassifier(max_depth=4, random_state=24))])</pre></div></div></div><div class=\"sk-serial\"><div class=\"sk-item sk-dashed-wrapped\"><div class=\"sk-label-container\"><div class=\"sk-label sk-toggleable\"><input class=\"sk-toggleable__control sk-hidden--visually\" id=\"18a0235b-2aa6-430a-8fec-0fe918f161f2\" type=\"checkbox\" ><label class=\"sk-toggleable__label\" for=\"18a0235b-2aa6-430a-8fec-0fe918f161f2\">preprocessor: ColumnTransformer</label><div class=\"sk-toggleable__content\"><pre>ColumnTransformer(transformers=[('tweet_text',\n",
       "                                 Pipeline(steps=[('squeeze',\n",
       "                                                  FunctionTransformer(func=<function <lambda> at 0x000001D173F903A0>)),\n",
       "                                                 ('vec', CountVectorizer()),\n",
       "                                                 ('array',\n",
       "                                                  FunctionTransformer(func=<function <lambda> at 0x000001D173F90430>))]),\n",
       "                                 ['text'])])</pre></div></div></div><div class=\"sk-parallel\"><div class=\"sk-parallel-item\"><div class=\"sk-item\"><div class=\"sk-label-container\"><div class=\"sk-label sk-toggleable\"><input class=\"sk-toggleable__control sk-hidden--visually\" id=\"219b80ed-fa11-428a-b88b-35d58d3989b6\" type=\"checkbox\" ><label class=\"sk-toggleable__label\" for=\"219b80ed-fa11-428a-b88b-35d58d3989b6\">tweet_text</label><div class=\"sk-toggleable__content\"><pre>['text']</pre></div></div></div><div class=\"sk-serial\"><div class=\"sk-item\"><div class=\"sk-serial\"><div class=\"sk-item\"><div class=\"sk-estimator sk-toggleable\"><input class=\"sk-toggleable__control sk-hidden--visually\" id=\"518fd4b8-7553-44c1-8f16-930a35409f8b\" type=\"checkbox\" ><label class=\"sk-toggleable__label\" for=\"518fd4b8-7553-44c1-8f16-930a35409f8b\">FunctionTransformer</label><div class=\"sk-toggleable__content\"><pre>FunctionTransformer(func=<function <lambda> at 0x000001D173F903A0>)</pre></div></div></div><div class=\"sk-item\"><div class=\"sk-estimator sk-toggleable\"><input class=\"sk-toggleable__control sk-hidden--visually\" id=\"53a97790-48a8-428a-890d-911c17a7ce38\" type=\"checkbox\" ><label class=\"sk-toggleable__label\" for=\"53a97790-48a8-428a-890d-911c17a7ce38\">CountVectorizer</label><div class=\"sk-toggleable__content\"><pre>CountVectorizer()</pre></div></div></div><div class=\"sk-item\"><div class=\"sk-estimator sk-toggleable\"><input class=\"sk-toggleable__control sk-hidden--visually\" id=\"22189cc7-6b37-4fe1-91d0-1db840359948\" type=\"checkbox\" ><label class=\"sk-toggleable__label\" for=\"22189cc7-6b37-4fe1-91d0-1db840359948\">FunctionTransformer</label><div class=\"sk-toggleable__content\"><pre>FunctionTransformer(func=<function <lambda> at 0x000001D173F90430>)</pre></div></div></div></div></div></div></div></div></div></div><div class=\"sk-item\"><div class=\"sk-estimator sk-toggleable\"><input class=\"sk-toggleable__control sk-hidden--visually\" id=\"b1b6397f-6ef8-4de7-980b-cb676cacc830\" type=\"checkbox\" ><label class=\"sk-toggleable__label\" for=\"b1b6397f-6ef8-4de7-980b-cb676cacc830\">RandomOverSampler</label><div class=\"sk-toggleable__content\"><pre>RandomOverSampler(random_state=24, sampling_strategy='not majority')</pre></div></div></div><div class=\"sk-item\"><div class=\"sk-estimator sk-toggleable\"><input class=\"sk-toggleable__control sk-hidden--visually\" id=\"b3898e32-071a-4cc7-ab0c-4280e803996b\" type=\"checkbox\" ><label class=\"sk-toggleable__label\" for=\"b3898e32-071a-4cc7-ab0c-4280e803996b\">RandomForestClassifier</label><div class=\"sk-toggleable__content\"><pre>RandomForestClassifier(max_depth=4, random_state=24)</pre></div></div></div></div></div></div></div>"
      ],
      "text/plain": [
       "Pipeline(steps=[('preprocessor',\n",
       "                 ColumnTransformer(transformers=[('tweet_text',\n",
       "                                                  Pipeline(steps=[('squeeze',\n",
       "                                                                   FunctionTransformer(func=<function <lambda> at 0x000001D173F903A0>)),\n",
       "                                                                  ('vec',\n",
       "                                                                   CountVectorizer()),\n",
       "                                                                  ('array',\n",
       "                                                                   FunctionTransformer(func=<function <lambda> at 0x000001D173F90430>))]),\n",
       "                                                  ['text'])])),\n",
       "                ('ros',\n",
       "                 RandomOverSampler(random_state=24,\n",
       "                                   sampling_strategy='not majority')),\n",
       "                ('rf', RandomForestClassifier(max_depth=4, random_state=24))])"
      ]
     },
     "execution_count": 20,
     "metadata": {},
     "output_type": "execute_result"
    }
   ],
   "source": [
    "# Fitting the model on the train data\n",
    "rfmodel_pipe.fit(X_train_frame, y_train)"
   ]
  },
  {
   "cell_type": "code",
   "execution_count": 21,
   "metadata": {},
   "outputs": [
    {
     "data": {
      "text/plain": [
       "0.7476684480771246"
      ]
     },
     "execution_count": 21,
     "metadata": {},
     "output_type": "execute_result"
    }
   ],
   "source": [
    "# Model Train score\n",
    "rfmodel_pipe.score(X_train_frame, y_train)"
   ]
  },
  {
   "cell_type": "code",
   "execution_count": 23,
   "metadata": {},
   "outputs": [
    {
     "name": "stdout",
     "output_type": "stream",
     "text": [
      "              precision    recall  f1-score   support\n",
      "\n",
      "           0       0.50      0.57      0.53       347\n",
      "           1       0.60      0.58      0.59       475\n",
      "           2       0.84      0.82      0.83      1566\n",
      "\n",
      "    accuracy                           0.74      2388\n",
      "   macro avg       0.65      0.66      0.65      2388\n",
      "weighted avg       0.74      0.74      0.74      2388\n",
      "\n"
     ]
    }
   ],
   "source": [
    "# Model test score\n",
    "rf_y_pred = rfmodel_pipe.predict(X_test_toframe)\n",
    "print(classification_report(y_test, rf_y_pred))"
   ]
  },
  {
   "cell_type": "markdown",
   "metadata": {},
   "source": [
    "**The train and test scores were similar for the Random Forest model. Aiming to get a better score so I am going to hyper parameter tune the model.**"
   ]
  },
  {
   "cell_type": "markdown",
   "metadata": {},
   "source": [
    "### Hyper Parameter tuning the RandomForest Model"
   ]
  },
  {
   "cell_type": "code",
   "execution_count": 55,
   "metadata": {},
   "outputs": [],
   "source": [
    "# Hyper parameter tuning parameters\n",
    "rfgridparams =  [{'rf__max_depth' : [3, 4, 5, 6, 7],\n",
    "                  'rf__n_estimators' : [50, 100, 150, 200],\n",
    "                  'rf__min_samples_split': [2,5, 6, 8, 10],\n",
    "                'rf__min_samples_leaf': [3,4,5,6, 10, 15],\n",
    "         'ros__sampling_strategy': ['not majority'],\n",
    "               'preprocessor__tweet_text__vec__max_df': [.95, .9],\n",
    "               'preprocessor__tweet_text__vec__min_df': [.05, .1, .2],\n",
    "               'preprocessor__tweet_text__vec__ngram_range': [(1,1),(1,2)]}]"
   ]
  },
  {
   "cell_type": "code",
   "execution_count": 56,
   "metadata": {},
   "outputs": [],
   "source": [
    "# Fitting the model to GridSearchCv\n",
    "RFGridSearch = GridSearchCV(rfmodel_pipe, param_grid = rfgridparams, scoring= 'f1_weighted', cv = 4)"
   ]
  },
  {
   "cell_type": "code",
   "execution_count": 57,
   "metadata": {},
   "outputs": [
    {
     "data": {
      "text/html": [
       "<style>div.sk-top-container {color: black;background-color: white;}div.sk-toggleable {background-color: white;}label.sk-toggleable__label {cursor: pointer;display: block;width: 100%;margin-bottom: 0;padding: 0.2em 0.3em;box-sizing: border-box;text-align: center;}div.sk-toggleable__content {max-height: 0;max-width: 0;overflow: hidden;text-align: left;background-color: #f0f8ff;}div.sk-toggleable__content pre {margin: 0.2em;color: black;border-radius: 0.25em;background-color: #f0f8ff;}input.sk-toggleable__control:checked~div.sk-toggleable__content {max-height: 200px;max-width: 100%;overflow: auto;}div.sk-estimator input.sk-toggleable__control:checked~label.sk-toggleable__label {background-color: #d4ebff;}div.sk-label input.sk-toggleable__control:checked~label.sk-toggleable__label {background-color: #d4ebff;}input.sk-hidden--visually {border: 0;clip: rect(1px 1px 1px 1px);clip: rect(1px, 1px, 1px, 1px);height: 1px;margin: -1px;overflow: hidden;padding: 0;position: absolute;width: 1px;}div.sk-estimator {font-family: monospace;background-color: #f0f8ff;margin: 0.25em 0.25em;border: 1px dotted black;border-radius: 0.25em;box-sizing: border-box;}div.sk-estimator:hover {background-color: #d4ebff;}div.sk-parallel-item::after {content: \"\";width: 100%;border-bottom: 1px solid gray;flex-grow: 1;}div.sk-label:hover label.sk-toggleable__label {background-color: #d4ebff;}div.sk-serial::before {content: \"\";position: absolute;border-left: 1px solid gray;box-sizing: border-box;top: 2em;bottom: 0;left: 50%;}div.sk-serial {display: flex;flex-direction: column;align-items: center;background-color: white;}div.sk-item {z-index: 1;}div.sk-parallel {display: flex;align-items: stretch;justify-content: center;background-color: white;}div.sk-parallel-item {display: flex;flex-direction: column;position: relative;background-color: white;}div.sk-parallel-item:first-child::after {align-self: flex-end;width: 50%;}div.sk-parallel-item:last-child::after {align-self: flex-start;width: 50%;}div.sk-parallel-item:only-child::after {width: 0;}div.sk-dashed-wrapped {border: 1px dashed gray;margin: 0.2em;box-sizing: border-box;padding-bottom: 0.1em;background-color: white;position: relative;}div.sk-label label {font-family: monospace;font-weight: bold;background-color: white;display: inline-block;line-height: 1.2em;}div.sk-label-container {position: relative;z-index: 2;text-align: center;}div.sk-container {display: inline-block;position: relative;}</style><div class=\"sk-top-container\"><div class=\"sk-container\"><div class=\"sk-item sk-dashed-wrapped\"><div class=\"sk-label-container\"><div class=\"sk-label sk-toggleable\"><input class=\"sk-toggleable__control sk-hidden--visually\" id=\"61bacd85-e257-415e-b5fa-b399b1e4ee85\" type=\"checkbox\" ><label class=\"sk-toggleable__label\" for=\"61bacd85-e257-415e-b5fa-b399b1e4ee85\">GridSearchCV</label><div class=\"sk-toggleable__content\"><pre>GridSearchCV(cv=4,\n",
       "             estimator=Pipeline(steps=[('preprocessor',\n",
       "                                        ColumnTransformer(transformers=[('tweet_text',\n",
       "                                                                         Pipeline(steps=[('squeeze',\n",
       "                                                                                          FunctionTransformer(func=<function <lambda> at 0x000001D173F903A0>)),\n",
       "                                                                                         ('vec',\n",
       "                                                                                          CountVectorizer()),\n",
       "                                                                                         ('array',\n",
       "                                                                                          FunctionTransformer(func=<function <lambda> at 0x000001D173F90430>))]),\n",
       "                                                                         ['text'])])),\n",
       "                                       ('ros',\n",
       "                                        RandomOverSampler(random_sta...\n",
       "             param_grid=[{'preprocessor__tweet_text__vec__max_df': [0.95, 0.9],\n",
       "                          'preprocessor__tweet_text__vec__min_df': [0.05, 0.1,\n",
       "                                                                    0.2],\n",
       "                          'preprocessor__tweet_text__vec__ngram_range': [(1, 1),\n",
       "                                                                         (1,\n",
       "                                                                          2)],\n",
       "                          'rf__max_depth': [3, 4, 5, 6, 7],\n",
       "                          'rf__min_samples_leaf': [3, 4, 5, 6, 10, 15],\n",
       "                          'rf__min_samples_split': [2, 5, 6, 8, 10],\n",
       "                          'rf__n_estimators': [50, 100, 150, 200],\n",
       "                          'ros__sampling_strategy': ['not majority']}],\n",
       "             scoring='f1_weighted')</pre></div></div></div><div class=\"sk-parallel\"><div class=\"sk-parallel-item\"><div class=\"sk-item\"><div class=\"sk-serial\"><div class=\"sk-item\"><div class=\"sk-serial\"><div class=\"sk-item sk-dashed-wrapped\"><div class=\"sk-label-container\"><div class=\"sk-label sk-toggleable\"><input class=\"sk-toggleable__control sk-hidden--visually\" id=\"9ef8b125-818e-4e39-b23f-389cc4b0b47f\" type=\"checkbox\" ><label class=\"sk-toggleable__label\" for=\"9ef8b125-818e-4e39-b23f-389cc4b0b47f\">preprocessor: ColumnTransformer</label><div class=\"sk-toggleable__content\"><pre>ColumnTransformer(transformers=[('tweet_text',\n",
       "                                 Pipeline(steps=[('squeeze',\n",
       "                                                  FunctionTransformer(func=<function <lambda> at 0x000001D173F903A0>)),\n",
       "                                                 ('vec', CountVectorizer()),\n",
       "                                                 ('array',\n",
       "                                                  FunctionTransformer(func=<function <lambda> at 0x000001D173F90430>))]),\n",
       "                                 ['text'])])</pre></div></div></div><div class=\"sk-parallel\"><div class=\"sk-parallel-item\"><div class=\"sk-item\"><div class=\"sk-label-container\"><div class=\"sk-label sk-toggleable\"><input class=\"sk-toggleable__control sk-hidden--visually\" id=\"a22970e1-a71a-4b58-9fa5-e6352d396427\" type=\"checkbox\" ><label class=\"sk-toggleable__label\" for=\"a22970e1-a71a-4b58-9fa5-e6352d396427\">tweet_text</label><div class=\"sk-toggleable__content\"><pre>['text']</pre></div></div></div><div class=\"sk-serial\"><div class=\"sk-item\"><div class=\"sk-serial\"><div class=\"sk-item\"><div class=\"sk-estimator sk-toggleable\"><input class=\"sk-toggleable__control sk-hidden--visually\" id=\"369becbc-f86e-457b-8c96-aac886887440\" type=\"checkbox\" ><label class=\"sk-toggleable__label\" for=\"369becbc-f86e-457b-8c96-aac886887440\">FunctionTransformer</label><div class=\"sk-toggleable__content\"><pre>FunctionTransformer(func=<function <lambda> at 0x000001D173F903A0>)</pre></div></div></div><div class=\"sk-item\"><div class=\"sk-estimator sk-toggleable\"><input class=\"sk-toggleable__control sk-hidden--visually\" id=\"58fbe6ff-280a-4139-a566-58f63251e847\" type=\"checkbox\" ><label class=\"sk-toggleable__label\" for=\"58fbe6ff-280a-4139-a566-58f63251e847\">CountVectorizer</label><div class=\"sk-toggleable__content\"><pre>CountVectorizer()</pre></div></div></div><div class=\"sk-item\"><div class=\"sk-estimator sk-toggleable\"><input class=\"sk-toggleable__control sk-hidden--visually\" id=\"81ffdb6b-97ff-4849-85dd-894e3bbfe619\" type=\"checkbox\" ><label class=\"sk-toggleable__label\" for=\"81ffdb6b-97ff-4849-85dd-894e3bbfe619\">FunctionTransformer</label><div class=\"sk-toggleable__content\"><pre>FunctionTransformer(func=<function <lambda> at 0x000001D173F90430>)</pre></div></div></div></div></div></div></div></div></div></div><div class=\"sk-item\"><div class=\"sk-estimator sk-toggleable\"><input class=\"sk-toggleable__control sk-hidden--visually\" id=\"e18b5998-fe50-4d52-8417-fe8d188ac3e6\" type=\"checkbox\" ><label class=\"sk-toggleable__label\" for=\"e18b5998-fe50-4d52-8417-fe8d188ac3e6\">RandomOverSampler</label><div class=\"sk-toggleable__content\"><pre>RandomOverSampler(random_state=24, sampling_strategy='not majority')</pre></div></div></div><div class=\"sk-item\"><div class=\"sk-estimator sk-toggleable\"><input class=\"sk-toggleable__control sk-hidden--visually\" id=\"f63da36f-6eac-4694-9f19-ecfd5b73c3ab\" type=\"checkbox\" ><label class=\"sk-toggleable__label\" for=\"f63da36f-6eac-4694-9f19-ecfd5b73c3ab\">RandomForestClassifier</label><div class=\"sk-toggleable__content\"><pre>RandomForestClassifier(max_depth=4, random_state=24)</pre></div></div></div></div></div></div></div></div></div></div></div></div>"
      ],
      "text/plain": [
       "GridSearchCV(cv=4,\n",
       "             estimator=Pipeline(steps=[('preprocessor',\n",
       "                                        ColumnTransformer(transformers=[('tweet_text',\n",
       "                                                                         Pipeline(steps=[('squeeze',\n",
       "                                                                                          FunctionTransformer(func=<function <lambda> at 0x000001D173F903A0>)),\n",
       "                                                                                         ('vec',\n",
       "                                                                                          CountVectorizer()),\n",
       "                                                                                         ('array',\n",
       "                                                                                          FunctionTransformer(func=<function <lambda> at 0x000001D173F90430>))]),\n",
       "                                                                         ['text'])])),\n",
       "                                       ('ros',\n",
       "                                        RandomOverSampler(random_sta...\n",
       "             param_grid=[{'preprocessor__tweet_text__vec__max_df': [0.95, 0.9],\n",
       "                          'preprocessor__tweet_text__vec__min_df': [0.05, 0.1,\n",
       "                                                                    0.2],\n",
       "                          'preprocessor__tweet_text__vec__ngram_range': [(1, 1),\n",
       "                                                                         (1,\n",
       "                                                                          2)],\n",
       "                          'rf__max_depth': [3, 4, 5, 6, 7],\n",
       "                          'rf__min_samples_leaf': [3, 4, 5, 6, 10, 15],\n",
       "                          'rf__min_samples_split': [2, 5, 6, 8, 10],\n",
       "                          'rf__n_estimators': [50, 100, 150, 200],\n",
       "                          'ros__sampling_strategy': ['not majority']}],\n",
       "             scoring='f1_weighted')"
      ]
     },
     "execution_count": 57,
     "metadata": {},
     "output_type": "execute_result"
    }
   ],
   "source": [
    "RFGridSearch.fit(X_train_frame, y_train)"
   ]
  },
  {
   "cell_type": "code",
   "execution_count": null,
   "metadata": {},
   "outputs": [],
   "source": []
  }
 ],
 "metadata": {
  "kernelspec": {
   "display_name": "Python (learn-env)",
   "language": "python",
   "name": "learn-env"
  },
  "language_info": {
   "codemirror_mode": {
    "name": "ipython",
    "version": 3
   },
   "file_extension": ".py",
   "mimetype": "text/x-python",
   "name": "python",
   "nbconvert_exporter": "python",
   "pygments_lexer": "ipython3",
   "version": "3.8.5"
  }
 },
 "nbformat": 4,
 "nbformat_minor": 4
}
