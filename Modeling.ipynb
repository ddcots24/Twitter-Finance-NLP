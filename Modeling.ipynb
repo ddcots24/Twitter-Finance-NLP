{
 "cells": [
  {
   "cell_type": "markdown",
   "metadata": {},
   "source": [
    "## Business Understanding"
   ]
  },
  {
   "cell_type": "markdown",
   "metadata": {},
   "source": [
    "**StakeHolder**: A **regular investor** who is following financial news on twitter\n",
    "- The regular investor has been using Bloomberg and other main stream financial news centers to get stock information\n",
    "- They are looking to get an edge on most investors but are having trouble finding out how\n",
    "- They decide to go to social media and land on twitter\n",
    "- However, they are having trouble deciphering whether the tweets are neutral, bullish or bearish\n",
    "    - In order to know what to buy, sell, short, or keep an eye on for future investments\n",
    "- This model using a natural language processor to identify whether a tweet is bullish, bearish or neutral can be used for the investors needs on identifying their next big catch in the market before other investors.\n",
    "- Equally it can make the investor privy to when stocks will potentially plummet\n"
   ]
  },
  {
   "cell_type": "markdown",
   "metadata": {},
   "source": [
    "## Data Understanding"
   ]
  },
  {
   "cell_type": "markdown",
   "metadata": {},
   "source": [
    "- The dataset was found on Hugging Face\n",
    "- The Twitter Financial News dataset is an English-language dataset containing an annotated corpus of finance-related tweets. \n",
    "- This dataset is used to classify finance-related tweets for their sentiment.\n",
    "- The size of the dataset is roughly 12,000 rows of text\n",
    "- The data contains two columns; a text column that contains the tweet text and a corresponding label column with a sentiment.\n",
    "    - Sentiments\n",
    "         - Label 0: Bearish\n",
    "         - Label 1: Bullish\n",
    "         - Label 2: Neutral"
   ]
  },
  {
   "cell_type": "code",
   "execution_count": 23,
   "metadata": {},
   "outputs": [],
   "source": [
    "# Importing all important packages for modeling\n",
    "import numpy as np\n",
    "import pandas as pd\n",
    "import nltk\n",
    "import matplotlib.pyplot as plt\n",
    "from nltk.tokenize import regexp_tokenize, word_tokenize, RegexpTokenizer\n",
    "from nltk.corpus import stopwords, wordnet\n",
    "from nltk import pos_tag\n",
    "from nltk.stem import WordNetLemmatizer\n",
    "from sklearn.ensemble import RandomForestClassifier\n",
    "from sklearn.naive_bayes import MultinomialNB\n",
    "from sklearn.metrics import accuracy_score, precision_score, confusion_matrix\n",
    "from sklearn.metrics import plot_confusion_matrix\n",
    "from sklearn.metrics import classification_report\n",
    "from sklearn.metrics import plot_roc_curve\n",
    "from sklearn.metrics import roc_auc_score\n",
    "from sklearn.preprocessing import FunctionTransformer\n",
    "from sklearn.compose import ColumnTransformer\n",
    "from sklearn.base import BaseEstimator, TransformerMixin\n",
    "from imblearn.pipeline import Pipeline\n",
    "from sklearn.feature_extraction.text import CountVectorizer\n",
    "from imblearn.over_sampling import RandomOverSampler, SMOTE\n",
    "from sklearn.naive_bayes import ComplementNB\n",
    "from sklearn.ensemble import RandomForestClassifier\n",
    "from xgboost import XGBClassifier\n",
    "from sklearn import set_config\n",
    "from sklearn.model_selection import GridSearchCV\n",
    "set_config(display='diagram')\n",
    "stop_words = stopwords.words('english')\n",
    "stop_words.append('https')"
   ]
  },
  {
   "cell_type": "markdown",
   "metadata": {},
   "source": [
    "### Preprocessing the Text Data"
   ]
  },
  {
   "cell_type": "code",
   "execution_count": 2,
   "metadata": {},
   "outputs": [],
   "source": [
    "# Creating a class that allows text to be preprocessed \n",
    "class TextPreprocessor(BaseEstimator, TransformerMixin):\n",
    "    \n",
    "    def __init__(self):\n",
    "        \n",
    "        # define attributes to store if text preprocessing requires fitting from data\n",
    "        pass\n",
    "    \n",
    "    def fit(self, data, y = 0):\n",
    "        \n",
    "        # this is where you would fit corpus specific stopwords\n",
    "        # fit probable bigrams with bigram model in here\n",
    "        # save as parameters of Text preprocessor\n",
    "        return self\n",
    "    \n",
    "    def transform(self, data, y = 0):\n",
    "        normalized_corpus = data.apply(self.process_doc)\n",
    "        \n",
    "        return normalized_corpus\n",
    "        \n",
    "    def process_doc(self, doc):\n",
    "        \n",
    "        # Initialize lemmatizer\n",
    "        wnl = WordNetLemmatizer()\n",
    "        stop_words = stopwords.words('english')\n",
    "        \n",
    "        # helper function to change nltk's part of speech tagging to a wordnet format.\n",
    "        def pos_tagger(nltk_tag):\n",
    "            if nltk_tag.startswith('J'):\n",
    "                return wordnet.ADJ\n",
    "            elif nltk_tag.startswith('V'):\n",
    "                return wordnet.VERB\n",
    "            elif nltk_tag.startswith('N'):\n",
    "                return wordnet.NOUN\n",
    "            elif nltk_tag.startswith('R'):\n",
    "                return wordnet.ADV\n",
    "            else:         \n",
    "                return None\n",
    "        \n",
    "        \n",
    "        # remove stop words and punctuations, then lower case\n",
    "        doc_norm = [tok.lower() for tok in word_tokenize(doc) if ((tok.isalpha()) & (tok.lower() not in stop_words)) ]\n",
    "        \n",
    "        # POS detection on the result will be important in telling Wordnet's lemmatizer how to lemmatize\n",
    "        \n",
    "        # creates list of tuples with tokens and POS tags in wordnet format\n",
    "        wordnet_tagged = list(map(lambda x: (x[0], pos_tagger(x[1])), pos_tag(doc_norm))) \n",
    "        doc_norm = [wnl.lemmatize(token, pos) for token, pos in wordnet_tagged if pos is not None]\n",
    "\n",
    "        return \" \".join(doc_norm)"
   ]
  },
  {
   "cell_type": "code",
   "execution_count": 3,
   "metadata": {},
   "outputs": [],
   "source": [
    "# Uploading the necessary train and test data\n",
    "# The data I used was already split into test and train\n",
    "train= pd.read_csv('sent_train.csv')\n",
    "test = pd.read_csv('sent_valid.csv')\n",
    "X_train = train['text']\n",
    "X_test = test['text']\n",
    "y_train = train['label']\n",
    "y_test = test['label']"
   ]
  },
  {
   "cell_type": "code",
   "execution_count": 4,
   "metadata": {},
   "outputs": [],
   "source": [
    "# Instantiating the textpreprocessor and fitting/ transforming my X_train\n",
    "processor = TextPreprocessor()\n",
    "X_train_transformed = processor.fit_transform(X_train)"
   ]
  },
  {
   "cell_type": "code",
   "execution_count": 5,
   "metadata": {},
   "outputs": [],
   "source": [
    "# Converting X_train to dataframe so it can be fit in the pipeline\n",
    "X_train_frame = X_train_transformed.to_frame()"
   ]
  },
  {
   "cell_type": "markdown",
   "metadata": {},
   "source": [
    "## Modeling"
   ]
  },
  {
   "cell_type": "markdown",
   "metadata": {},
   "source": [
    "### First Simple Model (FSM) - Complement Naive Bayes"
   ]
  },
  {
   "cell_type": "code",
   "execution_count": 6,
   "metadata": {},
   "outputs": [],
   "source": [
    "# Creating a pipeline for my model using the complement Naive Bayes because there is a class imbalance\n",
    "Tweet_text_transformer = Pipeline(steps = [\n",
    "    (\"squeeze\", FunctionTransformer(lambda x: x.squeeze())),\n",
    "    (\"vec\", CountVectorizer()),\n",
    "    (\"array\", FunctionTransformer(lambda x: x.toarray()))\n",
    "])\n",
    "\n",
    "preprocessor = ColumnTransformer(transformers = [\n",
    "    ('tweet_text', Tweet_text_transformer, ['text'])])\n",
    "\n",
    "steps = [('preprocessor', preprocessor), ('ros', RandomOverSampler(random_state = 24, sampling_strategy = 'not majority')), \n",
    "         ('compNB', ComplementNB())]\n",
    "\n",
    "model_pipe = Pipeline(steps)"
   ]
  },
  {
   "cell_type": "code",
   "execution_count": 7,
   "metadata": {},
   "outputs": [
    {
     "data": {
      "text/html": [
       "<style>div.sk-top-container {color: black;background-color: white;}div.sk-toggleable {background-color: white;}label.sk-toggleable__label {cursor: pointer;display: block;width: 100%;margin-bottom: 0;padding: 0.2em 0.3em;box-sizing: border-box;text-align: center;}div.sk-toggleable__content {max-height: 0;max-width: 0;overflow: hidden;text-align: left;background-color: #f0f8ff;}div.sk-toggleable__content pre {margin: 0.2em;color: black;border-radius: 0.25em;background-color: #f0f8ff;}input.sk-toggleable__control:checked~div.sk-toggleable__content {max-height: 200px;max-width: 100%;overflow: auto;}div.sk-estimator input.sk-toggleable__control:checked~label.sk-toggleable__label {background-color: #d4ebff;}div.sk-label input.sk-toggleable__control:checked~label.sk-toggleable__label {background-color: #d4ebff;}input.sk-hidden--visually {border: 0;clip: rect(1px 1px 1px 1px);clip: rect(1px, 1px, 1px, 1px);height: 1px;margin: -1px;overflow: hidden;padding: 0;position: absolute;width: 1px;}div.sk-estimator {font-family: monospace;background-color: #f0f8ff;margin: 0.25em 0.25em;border: 1px dotted black;border-radius: 0.25em;box-sizing: border-box;}div.sk-estimator:hover {background-color: #d4ebff;}div.sk-parallel-item::after {content: \"\";width: 100%;border-bottom: 1px solid gray;flex-grow: 1;}div.sk-label:hover label.sk-toggleable__label {background-color: #d4ebff;}div.sk-serial::before {content: \"\";position: absolute;border-left: 1px solid gray;box-sizing: border-box;top: 2em;bottom: 0;left: 50%;}div.sk-serial {display: flex;flex-direction: column;align-items: center;background-color: white;}div.sk-item {z-index: 1;}div.sk-parallel {display: flex;align-items: stretch;justify-content: center;background-color: white;}div.sk-parallel-item {display: flex;flex-direction: column;position: relative;background-color: white;}div.sk-parallel-item:first-child::after {align-self: flex-end;width: 50%;}div.sk-parallel-item:last-child::after {align-self: flex-start;width: 50%;}div.sk-parallel-item:only-child::after {width: 0;}div.sk-dashed-wrapped {border: 1px dashed gray;margin: 0.2em;box-sizing: border-box;padding-bottom: 0.1em;background-color: white;position: relative;}div.sk-label label {font-family: monospace;font-weight: bold;background-color: white;display: inline-block;line-height: 1.2em;}div.sk-label-container {position: relative;z-index: 2;text-align: center;}div.sk-container {display: inline-block;position: relative;}</style><div class=\"sk-top-container\"><div class=\"sk-container\"><div class=\"sk-item sk-dashed-wrapped\"><div class=\"sk-label-container\"><div class=\"sk-label sk-toggleable\"><input class=\"sk-toggleable__control sk-hidden--visually\" id=\"157d6075-583b-404b-b8d7-213fe0980838\" type=\"checkbox\" ><label class=\"sk-toggleable__label\" for=\"157d6075-583b-404b-b8d7-213fe0980838\">Pipeline</label><div class=\"sk-toggleable__content\"><pre>Pipeline(steps=[('preprocessor',\n",
       "                 ColumnTransformer(transformers=[('tweet_text',\n",
       "                                                  Pipeline(steps=[('squeeze',\n",
       "                                                                   FunctionTransformer(func=<function <lambda> at 0x000001D0A0D68160>)),\n",
       "                                                                  ('vec',\n",
       "                                                                   CountVectorizer()),\n",
       "                                                                  ('array',\n",
       "                                                                   FunctionTransformer(func=<function <lambda> at 0x000001D0C85AAE50>))]),\n",
       "                                                  ['text'])])),\n",
       "                ('ros',\n",
       "                 RandomOverSampler(random_state=24,\n",
       "                                   sampling_strategy='not majority')),\n",
       "                ('compNB', ComplementNB())])</pre></div></div></div><div class=\"sk-serial\"><div class=\"sk-item sk-dashed-wrapped\"><div class=\"sk-label-container\"><div class=\"sk-label sk-toggleable\"><input class=\"sk-toggleable__control sk-hidden--visually\" id=\"5c53e2c8-07b1-4325-afd3-eb4b00840552\" type=\"checkbox\" ><label class=\"sk-toggleable__label\" for=\"5c53e2c8-07b1-4325-afd3-eb4b00840552\">preprocessor: ColumnTransformer</label><div class=\"sk-toggleable__content\"><pre>ColumnTransformer(transformers=[('tweet_text',\n",
       "                                 Pipeline(steps=[('squeeze',\n",
       "                                                  FunctionTransformer(func=<function <lambda> at 0x000001D0A0D68160>)),\n",
       "                                                 ('vec', CountVectorizer()),\n",
       "                                                 ('array',\n",
       "                                                  FunctionTransformer(func=<function <lambda> at 0x000001D0C85AAE50>))]),\n",
       "                                 ['text'])])</pre></div></div></div><div class=\"sk-parallel\"><div class=\"sk-parallel-item\"><div class=\"sk-item\"><div class=\"sk-label-container\"><div class=\"sk-label sk-toggleable\"><input class=\"sk-toggleable__control sk-hidden--visually\" id=\"2b987d4d-b27b-4404-b058-79573a8b46e5\" type=\"checkbox\" ><label class=\"sk-toggleable__label\" for=\"2b987d4d-b27b-4404-b058-79573a8b46e5\">tweet_text</label><div class=\"sk-toggleable__content\"><pre>['text']</pre></div></div></div><div class=\"sk-serial\"><div class=\"sk-item\"><div class=\"sk-serial\"><div class=\"sk-item\"><div class=\"sk-estimator sk-toggleable\"><input class=\"sk-toggleable__control sk-hidden--visually\" id=\"3008a64e-68f9-4aca-9ee6-8ce6f20960e0\" type=\"checkbox\" ><label class=\"sk-toggleable__label\" for=\"3008a64e-68f9-4aca-9ee6-8ce6f20960e0\">FunctionTransformer</label><div class=\"sk-toggleable__content\"><pre>FunctionTransformer(func=<function <lambda> at 0x000001D0A0D68160>)</pre></div></div></div><div class=\"sk-item\"><div class=\"sk-estimator sk-toggleable\"><input class=\"sk-toggleable__control sk-hidden--visually\" id=\"93b55e99-7f71-424f-8eb9-4e651a4525cc\" type=\"checkbox\" ><label class=\"sk-toggleable__label\" for=\"93b55e99-7f71-424f-8eb9-4e651a4525cc\">CountVectorizer</label><div class=\"sk-toggleable__content\"><pre>CountVectorizer()</pre></div></div></div><div class=\"sk-item\"><div class=\"sk-estimator sk-toggleable\"><input class=\"sk-toggleable__control sk-hidden--visually\" id=\"c3b7dc66-abc6-449a-b01f-ea23f17eefbb\" type=\"checkbox\" ><label class=\"sk-toggleable__label\" for=\"c3b7dc66-abc6-449a-b01f-ea23f17eefbb\">FunctionTransformer</label><div class=\"sk-toggleable__content\"><pre>FunctionTransformer(func=<function <lambda> at 0x000001D0C85AAE50>)</pre></div></div></div></div></div></div></div></div></div></div><div class=\"sk-item\"><div class=\"sk-estimator sk-toggleable\"><input class=\"sk-toggleable__control sk-hidden--visually\" id=\"8e95c9a9-ed5a-4be8-b2b4-307f7dfa2072\" type=\"checkbox\" ><label class=\"sk-toggleable__label\" for=\"8e95c9a9-ed5a-4be8-b2b4-307f7dfa2072\">RandomOverSampler</label><div class=\"sk-toggleable__content\"><pre>RandomOverSampler(random_state=24, sampling_strategy='not majority')</pre></div></div></div><div class=\"sk-item\"><div class=\"sk-estimator sk-toggleable\"><input class=\"sk-toggleable__control sk-hidden--visually\" id=\"ef865a47-3a2f-4638-a6d5-54bec3fcf150\" type=\"checkbox\" ><label class=\"sk-toggleable__label\" for=\"ef865a47-3a2f-4638-a6d5-54bec3fcf150\">ComplementNB</label><div class=\"sk-toggleable__content\"><pre>ComplementNB()</pre></div></div></div></div></div></div></div>"
      ],
      "text/plain": [
       "Pipeline(steps=[('preprocessor',\n",
       "                 ColumnTransformer(transformers=[('tweet_text',\n",
       "                                                  Pipeline(steps=[('squeeze',\n",
       "                                                                   FunctionTransformer(func=<function <lambda> at 0x000001D0A0D68160>)),\n",
       "                                                                  ('vec',\n",
       "                                                                   CountVectorizer()),\n",
       "                                                                  ('array',\n",
       "                                                                   FunctionTransformer(func=<function <lambda> at 0x000001D0C85AAE50>))]),\n",
       "                                                  ['text'])])),\n",
       "                ('ros',\n",
       "                 RandomOverSampler(random_state=24,\n",
       "                                   sampling_strategy='not majority')),\n",
       "                ('compNB', ComplementNB())])"
      ]
     },
     "execution_count": 7,
     "metadata": {},
     "output_type": "execute_result"
    }
   ],
   "source": [
    "# fitting the model\n",
    "model_pipe.fit(X_train_frame, y_train)"
   ]
  },
  {
   "cell_type": "code",
   "execution_count": 8,
   "metadata": {},
   "outputs": [
    {
     "data": {
      "text/plain": [
       "0.8651367494498585"
      ]
     },
     "execution_count": 8,
     "metadata": {},
     "output_type": "execute_result"
    }
   ],
   "source": [
    "# Finding the model train score\n",
    "model_pipe.score(X_train_frame, y_train)"
   ]
  },
  {
   "cell_type": "code",
   "execution_count": 9,
   "metadata": {},
   "outputs": [
    {
     "name": "stdout",
     "output_type": "stream",
     "text": [
      "              precision    recall  f1-score   support\n",
      "\n",
      "           0       0.46      0.71      0.56       347\n",
      "           1       0.57      0.68      0.62       475\n",
      "           2       0.90      0.74      0.81      1566\n",
      "\n",
      "    accuracy                           0.72      2388\n",
      "   macro avg       0.64      0.71      0.66      2388\n",
      "weighted avg       0.77      0.72      0.74      2388\n",
      "\n"
     ]
    }
   ],
   "source": [
    "#Finding the model test score\n",
    "X_test_transformed = processor.transform(X_test)\n",
    "X_test_toframe = X_test_transformed.to_frame()\n",
    "y_pred = model_pipe.predict(X_test_toframe)\n",
    "print(classification_report(y_test, y_pred))"
   ]
  },
  {
   "cell_type": "code",
   "execution_count": 10,
   "metadata": {},
   "outputs": [
    {
     "data": {
      "image/png": "[encoded data removed]",
      "text/plain": [
       "<Figure size 432x288 with 2 Axes>"
      ]
     },
     "metadata": {
      "needs_background": "light"
     },
     "output_type": "display_data"
    }
   ],
   "source": [
    "# Plotting a confusion matrix to display the accuracy of my model on the test data\n",
    "plot_confusion_matrix(model_pipe, X_test_toframe,\n",
    "                      y_test);"
   ]
  },
  {
   "cell_type": "markdown",
   "metadata": {},
   "source": [
    "**Based on the models train score and the models test score it seems to be over fitting a little bit. In my next model I am going to hyper parameter tune to see if that helps regularization.**"
   ]
  },
  {
   "cell_type": "markdown",
   "metadata": {},
   "source": [
    "### Hyper Parameter Tuning the FSM"
   ]
  },
  {
   "cell_type": "code",
   "execution_count": 34,
   "metadata": {},
   "outputs": [],
   "source": [
    "# Grid searching on the given paramters and instantiating GridSearchCV\n",
    "gridparams =  [{'compNB__alpha' : [1, .8, .85, .9, .95],\n",
    "         'ros__sampling_strategy': ['not majority'],\n",
    "               'preprocessor__tweet_text__vec__max_df': [.95, .8, .7, .6],\n",
    "               'preprocessor__tweet_text__vec__min_df': [0, .05, .1, .2],\n",
    "               'preprocessor__tweet_text__vec__ngram_range': [(1,1),(1,2)]}\n",
    "       ]\n",
    "GridSearch = GridSearchCV(model_pipe, param_grid = gridparams, scoring= 'f1_weighted', cv = 3)"
   ]
  },
  {
   "cell_type": "code",
   "execution_count": 36,
   "metadata": {
    "scrolled": true
   },
   "outputs": [
    {
     "data": {
      "text/html": [
       "<style>div.sk-top-container {color: black;background-color: white;}div.sk-toggleable {background-color: white;}label.sk-toggleable__label {cursor: pointer;display: block;width: 100%;margin-bottom: 0;padding: 0.2em 0.3em;box-sizing: border-box;text-align: center;}div.sk-toggleable__content {max-height: 0;max-width: 0;overflow: hidden;text-align: left;background-color: #f0f8ff;}div.sk-toggleable__content pre {margin: 0.2em;color: black;border-radius: 0.25em;background-color: #f0f8ff;}input.sk-toggleable__control:checked~div.sk-toggleable__content {max-height: 200px;max-width: 100%;overflow: auto;}div.sk-estimator input.sk-toggleable__control:checked~label.sk-toggleable__label {background-color: #d4ebff;}div.sk-label input.sk-toggleable__control:checked~label.sk-toggleable__label {background-color: #d4ebff;}input.sk-hidden--visually {border: 0;clip: rect(1px 1px 1px 1px);clip: rect(1px, 1px, 1px, 1px);height: 1px;margin: -1px;overflow: hidden;padding: 0;position: absolute;width: 1px;}div.sk-estimator {font-family: monospace;background-color: #f0f8ff;margin: 0.25em 0.25em;border: 1px dotted black;border-radius: 0.25em;box-sizing: border-box;}div.sk-estimator:hover {background-color: #d4ebff;}div.sk-parallel-item::after {content: \"\";width: 100%;border-bottom: 1px solid gray;flex-grow: 1;}div.sk-label:hover label.sk-toggleable__label {background-color: #d4ebff;}div.sk-serial::before {content: \"\";position: absolute;border-left: 1px solid gray;box-sizing: border-box;top: 2em;bottom: 0;left: 50%;}div.sk-serial {display: flex;flex-direction: column;align-items: center;background-color: white;}div.sk-item {z-index: 1;}div.sk-parallel {display: flex;align-items: stretch;justify-content: center;background-color: white;}div.sk-parallel-item {display: flex;flex-direction: column;position: relative;background-color: white;}div.sk-parallel-item:first-child::after {align-self: flex-end;width: 50%;}div.sk-parallel-item:last-child::after {align-self: flex-start;width: 50%;}div.sk-parallel-item:only-child::after {width: 0;}div.sk-dashed-wrapped {border: 1px dashed gray;margin: 0.2em;box-sizing: border-box;padding-bottom: 0.1em;background-color: white;position: relative;}div.sk-label label {font-family: monospace;font-weight: bold;background-color: white;display: inline-block;line-height: 1.2em;}div.sk-label-container {position: relative;z-index: 2;text-align: center;}div.sk-container {display: inline-block;position: relative;}</style><div class=\"sk-top-container\"><div class=\"sk-container\"><div class=\"sk-item sk-dashed-wrapped\"><div class=\"sk-label-container\"><div class=\"sk-label sk-toggleable\"><input class=\"sk-toggleable__control sk-hidden--visually\" id=\"63578a1e-44c2-4630-ba8d-16106530324d\" type=\"checkbox\" ><label class=\"sk-toggleable__label\" for=\"63578a1e-44c2-4630-ba8d-16106530324d\">GridSearchCV</label><div class=\"sk-toggleable__content\"><pre>GridSearchCV(cv=3,\n",
       "             estimator=Pipeline(steps=[('preprocessor',\n",
       "                                        ColumnTransformer(transformers=[('tweet_text',\n",
       "                                                                         Pipeline(steps=[('squeeze',\n",
       "                                                                                          FunctionTransformer(func=<function <lambda> at 0x000001D135B3BD30>)),\n",
       "                                                                                         ('vec',\n",
       "                                                                                          CountVectorizer()),\n",
       "                                                                                         ('array',\n",
       "                                                                                          FunctionTransformer(func=<function <lambda> at 0x000001D135B3BC10>))]),\n",
       "                                                                         ['text'])])),\n",
       "                                       ('ros',\n",
       "                                        RandomOverSampler(random_sta...\n",
       "                                                          sampling_strategy='not '\n",
       "                                                                            'majority')),\n",
       "                                       ('compNB', ComplementNB())]),\n",
       "             param_grid=[{'compNB__alpha': [1, 0.8, 0.85, 0.9, 0.95],\n",
       "                          'preprocessor__tweet_text__vec__max_df': [0.95, 0.8,\n",
       "                                                                    0.7, 0.6],\n",
       "                          'preprocessor__tweet_text__vec__min_df': [0, 0.05,\n",
       "                                                                    0.1, 0.2],\n",
       "                          'preprocessor__tweet_text__vec__ngram_range': [(1, 1),\n",
       "                                                                         (1,\n",
       "                                                                          2)],\n",
       "                          'ros__sampling_strategy': ['not majority']}],\n",
       "             scoring='f1_weighted')</pre></div></div></div><div class=\"sk-parallel\"><div class=\"sk-parallel-item\"><div class=\"sk-item\"><div class=\"sk-serial\"><div class=\"sk-item\"><div class=\"sk-serial\"><div class=\"sk-item sk-dashed-wrapped\"><div class=\"sk-label-container\"><div class=\"sk-label sk-toggleable\"><input class=\"sk-toggleable__control sk-hidden--visually\" id=\"0b4b2cb0-99d0-4e65-ae6b-82c48f0f5224\" type=\"checkbox\" ><label class=\"sk-toggleable__label\" for=\"0b4b2cb0-99d0-4e65-ae6b-82c48f0f5224\">preprocessor: ColumnTransformer</label><div class=\"sk-toggleable__content\"><pre>ColumnTransformer(transformers=[('tweet_text',\n",
       "                                 Pipeline(steps=[('squeeze',\n",
       "                                                  FunctionTransformer(func=<function <lambda> at 0x000001D135B3BD30>)),\n",
       "                                                 ('vec', CountVectorizer()),\n",
       "                                                 ('array',\n",
       "                                                  FunctionTransformer(func=<function <lambda> at 0x000001D135B3BC10>))]),\n",
       "                                 ['text'])])</pre></div></div></div><div class=\"sk-parallel\"><div class=\"sk-parallel-item\"><div class=\"sk-item\"><div class=\"sk-label-container\"><div class=\"sk-label sk-toggleable\"><input class=\"sk-toggleable__control sk-hidden--visually\" id=\"4d9abedd-38d3-4875-aee7-5bdb2d1e8cc7\" type=\"checkbox\" ><label class=\"sk-toggleable__label\" for=\"4d9abedd-38d3-4875-aee7-5bdb2d1e8cc7\">tweet_text</label><div class=\"sk-toggleable__content\"><pre>['text']</pre></div></div></div><div class=\"sk-serial\"><div class=\"sk-item\"><div class=\"sk-serial\"><div class=\"sk-item\"><div class=\"sk-estimator sk-toggleable\"><input class=\"sk-toggleable__control sk-hidden--visually\" id=\"063ee408-cbf3-44a2-97dd-dd4527f9fecc\" type=\"checkbox\" ><label class=\"sk-toggleable__label\" for=\"063ee408-cbf3-44a2-97dd-dd4527f9fecc\">FunctionTransformer</label><div class=\"sk-toggleable__content\"><pre>FunctionTransformer(func=<function <lambda> at 0x000001D135B3BD30>)</pre></div></div></div><div class=\"sk-item\"><div class=\"sk-estimator sk-toggleable\"><input class=\"sk-toggleable__control sk-hidden--visually\" id=\"a1e4eae1-bd75-4878-9a89-9c65cf842459\" type=\"checkbox\" ><label class=\"sk-toggleable__label\" for=\"a1e4eae1-bd75-4878-9a89-9c65cf842459\">CountVectorizer</label><div class=\"sk-toggleable__content\"><pre>CountVectorizer()</pre></div></div></div><div class=\"sk-item\"><div class=\"sk-estimator sk-toggleable\"><input class=\"sk-toggleable__control sk-hidden--visually\" id=\"d07e0e05-befc-499e-9f5e-046ecfb0c437\" type=\"checkbox\" ><label class=\"sk-toggleable__label\" for=\"d07e0e05-befc-499e-9f5e-046ecfb0c437\">FunctionTransformer</label><div class=\"sk-toggleable__content\"><pre>FunctionTransformer(func=<function <lambda> at 0x000001D135B3BC10>)</pre></div></div></div></div></div></div></div></div></div></div><div class=\"sk-item\"><div class=\"sk-estimator sk-toggleable\"><input class=\"sk-toggleable__control sk-hidden--visually\" id=\"739a1519-fbbc-4ae9-be01-09cb8190d5f1\" type=\"checkbox\" ><label class=\"sk-toggleable__label\" for=\"739a1519-fbbc-4ae9-be01-09cb8190d5f1\">RandomOverSampler</label><div class=\"sk-toggleable__content\"><pre>RandomOverSampler(random_state=24, sampling_strategy='not majority')</pre></div></div></div><div class=\"sk-item\"><div class=\"sk-estimator sk-toggleable\"><input class=\"sk-toggleable__control sk-hidden--visually\" id=\"d84717f0-c25d-4fe8-9237-5767203e4a95\" type=\"checkbox\" ><label class=\"sk-toggleable__label\" for=\"d84717f0-c25d-4fe8-9237-5767203e4a95\">ComplementNB</label><div class=\"sk-toggleable__content\"><pre>ComplementNB()</pre></div></div></div></div></div></div></div></div></div></div></div></div>"
      ],
      "text/plain": [
       "GridSearchCV(cv=3,\n",
       "             estimator=Pipeline(steps=[('preprocessor',\n",
       "                                        ColumnTransformer(transformers=[('tweet_text',\n",
       "                                                                         Pipeline(steps=[('squeeze',\n",
       "                                                                                          FunctionTransformer(func=<function <lambda> at 0x000001D135B3BD30>)),\n",
       "                                                                                         ('vec',\n",
       "                                                                                          CountVectorizer()),\n",
       "                                                                                         ('array',\n",
       "                                                                                          FunctionTransformer(func=<function <lambda> at 0x000001D135B3BC10>))]),\n",
       "                                                                         ['text'])])),\n",
       "                                       ('ros',\n",
       "                                        RandomOverSampler(random_sta...\n",
       "                                                          sampling_strategy='not '\n",
       "                                                                            'majority')),\n",
       "                                       ('compNB', ComplementNB())]),\n",
       "             param_grid=[{'compNB__alpha': [1, 0.8, 0.85, 0.9, 0.95],\n",
       "                          'preprocessor__tweet_text__vec__max_df': [0.95, 0.8,\n",
       "                                                                    0.7, 0.6],\n",
       "                          'preprocessor__tweet_text__vec__min_df': [0, 0.05,\n",
       "                                                                    0.1, 0.2],\n",
       "                          'preprocessor__tweet_text__vec__ngram_range': [(1, 1),\n",
       "                                                                         (1,\n",
       "                                                                          2)],\n",
       "                          'ros__sampling_strategy': ['not majority']}],\n",
       "             scoring='f1_weighted')"
      ]
     },
     "execution_count": 36,
     "metadata": {},
     "output_type": "execute_result"
    }
   ],
   "source": [
    "# Fitting the model to the training data \n",
    "GridSearch.fit(X_train_frame, y_train)"
   ]
  },
  {
   "cell_type": "code",
   "execution_count": 59,
   "metadata": {},
   "outputs": [
    {
     "data": {
      "text/plain": [
       "0.9658388347479828"
      ]
     },
     "execution_count": 59,
     "metadata": {},
     "output_type": "execute_result"
    }
   ],
   "source": [
    "# The model performed extremely well on the train data\n",
    "best_model_ComplementNB = GridSearch.best_estimator_\n",
    "best_model_ComplementNB.score(X_train_frame, y_train)"
   ]
  },
  {
   "cell_type": "code",
   "execution_count": 60,
   "metadata": {},
   "outputs": [
    {
     "name": "stdout",
     "output_type": "stream",
     "text": [
      "              precision    recall  f1-score   support\n",
      "\n",
      "           0       0.50      0.70      0.59       347\n",
      "           1       0.61      0.73      0.66       475\n",
      "           2       0.90      0.77      0.83      1566\n",
      "\n",
      "    accuracy                           0.75      2388\n",
      "   macro avg       0.67      0.73      0.69      2388\n",
      "weighted avg       0.79      0.75      0.76      2388\n",
      "\n"
     ]
    }
   ],
   "source": [
    "# However the model did not perform well on the test data\n",
    "best_model_ComplementNB_pred = best_model_ComplementNB.predict(X_test_toframe)\n",
    "print(classification_report(y_test, best_model_ComplementNB_pred))"
   ]
  },
  {
   "cell_type": "markdown",
   "metadata": {},
   "source": [
    "**Hyper Paramter tuning the complement Naive Bayes model just made it extremely more overfit. Going to switch over to a different classifier to make it easier to regularize.**"
   ]
  },
  {
   "cell_type": "markdown",
   "metadata": {},
   "source": [
    "### Random Forest Model"
   ]
  },
  {
   "cell_type": "code",
   "execution_count": 98,
   "metadata": {},
   "outputs": [],
   "source": [
    "# Using the same pipeline as before by using a Random Forest Classifier\n",
    "Tweet_text_transformer = Pipeline(steps = [\n",
    "    (\"squeeze\", FunctionTransformer(lambda x: x.squeeze())),\n",
    "    (\"vec\", CountVectorizer()),\n",
    "    (\"array\", FunctionTransformer(lambda x: x.toarray()))\n",
    "])\n",
    "\n",
    "preprocessor = ColumnTransformer(transformers = [\n",
    "    ('tweet_text', Tweet_text_transformer, ['text'])])\n",
    "\n",
    "steps = [('preprocessor', preprocessor), ('ros', RandomOverSampler(random_state = 24, sampling_strategy = 'not majority')), \n",
    "         ('rf', RandomForestClassifier(random_state = 24, max_depth = 6))]\n",
    "\n",
    "rfmodel_pipe = Pipeline(steps)"
   ]
  },
  {
   "cell_type": "code",
   "execution_count": 99,
   "metadata": {},
   "outputs": [
    {
     "data": {
      "text/html": [
       "<style>div.sk-top-container {color: black;background-color: white;}div.sk-toggleable {background-color: white;}label.sk-toggleable__label {cursor: pointer;display: block;width: 100%;margin-bottom: 0;padding: 0.2em 0.3em;box-sizing: border-box;text-align: center;}div.sk-toggleable__content {max-height: 0;max-width: 0;overflow: hidden;text-align: left;background-color: #f0f8ff;}div.sk-toggleable__content pre {margin: 0.2em;color: black;border-radius: 0.25em;background-color: #f0f8ff;}input.sk-toggleable__control:checked~div.sk-toggleable__content {max-height: 200px;max-width: 100%;overflow: auto;}div.sk-estimator input.sk-toggleable__control:checked~label.sk-toggleable__label {background-color: #d4ebff;}div.sk-label input.sk-toggleable__control:checked~label.sk-toggleable__label {background-color: #d4ebff;}input.sk-hidden--visually {border: 0;clip: rect(1px 1px 1px 1px);clip: rect(1px, 1px, 1px, 1px);height: 1px;margin: -1px;overflow: hidden;padding: 0;position: absolute;width: 1px;}div.sk-estimator {font-family: monospace;background-color: #f0f8ff;margin: 0.25em 0.25em;border: 1px dotted black;border-radius: 0.25em;box-sizing: border-box;}div.sk-estimator:hover {background-color: #d4ebff;}div.sk-parallel-item::after {content: \"\";width: 100%;border-bottom: 1px solid gray;flex-grow: 1;}div.sk-label:hover label.sk-toggleable__label {background-color: #d4ebff;}div.sk-serial::before {content: \"\";position: absolute;border-left: 1px solid gray;box-sizing: border-box;top: 2em;bottom: 0;left: 50%;}div.sk-serial {display: flex;flex-direction: column;align-items: center;background-color: white;}div.sk-item {z-index: 1;}div.sk-parallel {display: flex;align-items: stretch;justify-content: center;background-color: white;}div.sk-parallel-item {display: flex;flex-direction: column;position: relative;background-color: white;}div.sk-parallel-item:first-child::after {align-self: flex-end;width: 50%;}div.sk-parallel-item:last-child::after {align-self: flex-start;width: 50%;}div.sk-parallel-item:only-child::after {width: 0;}div.sk-dashed-wrapped {border: 1px dashed gray;margin: 0.2em;box-sizing: border-box;padding-bottom: 0.1em;background-color: white;position: relative;}div.sk-label label {font-family: monospace;font-weight: bold;background-color: white;display: inline-block;line-height: 1.2em;}div.sk-label-container {position: relative;z-index: 2;text-align: center;}div.sk-container {display: inline-block;position: relative;}</style><div class=\"sk-top-container\"><div class=\"sk-container\"><div class=\"sk-item sk-dashed-wrapped\"><div class=\"sk-label-container\"><div class=\"sk-label sk-toggleable\"><input class=\"sk-toggleable__control sk-hidden--visually\" id=\"803b2f95-9270-4082-ba13-ae739fb75abb\" type=\"checkbox\" ><label class=\"sk-toggleable__label\" for=\"803b2f95-9270-4082-ba13-ae739fb75abb\">Pipeline</label><div class=\"sk-toggleable__content\"><pre>Pipeline(steps=[('preprocessor',\n",
       "                 ColumnTransformer(transformers=[('tweet_text',\n",
       "                                                  Pipeline(steps=[('squeeze',\n",
       "                                                                   FunctionTransformer(func=<function <lambda> at 0x000001D10483F790>)),\n",
       "                                                                  ('vec',\n",
       "                                                                   CountVectorizer()),\n",
       "                                                                  ('array',\n",
       "                                                                   FunctionTransformer(func=<function <lambda> at 0x000001D10483F700>))]),\n",
       "                                                  ['text'])])),\n",
       "                ('ros',\n",
       "                 RandomOverSampler(random_state=24,\n",
       "                                   sampling_strategy='not majority')),\n",
       "                ('rf', RandomForestClassifier(max_depth=6, random_state=24))])</pre></div></div></div><div class=\"sk-serial\"><div class=\"sk-item sk-dashed-wrapped\"><div class=\"sk-label-container\"><div class=\"sk-label sk-toggleable\"><input class=\"sk-toggleable__control sk-hidden--visually\" id=\"947d156f-59e2-4715-bc3d-cb869293070a\" type=\"checkbox\" ><label class=\"sk-toggleable__label\" for=\"947d156f-59e2-4715-bc3d-cb869293070a\">preprocessor: ColumnTransformer</label><div class=\"sk-toggleable__content\"><pre>ColumnTransformer(transformers=[('tweet_text',\n",
       "                                 Pipeline(steps=[('squeeze',\n",
       "                                                  FunctionTransformer(func=<function <lambda> at 0x000001D10483F790>)),\n",
       "                                                 ('vec', CountVectorizer()),\n",
       "                                                 ('array',\n",
       "                                                  FunctionTransformer(func=<function <lambda> at 0x000001D10483F700>))]),\n",
       "                                 ['text'])])</pre></div></div></div><div class=\"sk-parallel\"><div class=\"sk-parallel-item\"><div class=\"sk-item\"><div class=\"sk-label-container\"><div class=\"sk-label sk-toggleable\"><input class=\"sk-toggleable__control sk-hidden--visually\" id=\"b436c92c-6e0d-457a-8d40-b2a5ddc143cd\" type=\"checkbox\" ><label class=\"sk-toggleable__label\" for=\"b436c92c-6e0d-457a-8d40-b2a5ddc143cd\">tweet_text</label><div class=\"sk-toggleable__content\"><pre>['text']</pre></div></div></div><div class=\"sk-serial\"><div class=\"sk-item\"><div class=\"sk-serial\"><div class=\"sk-item\"><div class=\"sk-estimator sk-toggleable\"><input class=\"sk-toggleable__control sk-hidden--visually\" id=\"44a1b256-0803-477b-81c5-aa268406b076\" type=\"checkbox\" ><label class=\"sk-toggleable__label\" for=\"44a1b256-0803-477b-81c5-aa268406b076\">FunctionTransformer</label><div class=\"sk-toggleable__content\"><pre>FunctionTransformer(func=<function <lambda> at 0x000001D10483F790>)</pre></div></div></div><div class=\"sk-item\"><div class=\"sk-estimator sk-toggleable\"><input class=\"sk-toggleable__control sk-hidden--visually\" id=\"1477b63a-279b-4d9e-a1d0-9f8ed8f072b4\" type=\"checkbox\" ><label class=\"sk-toggleable__label\" for=\"1477b63a-279b-4d9e-a1d0-9f8ed8f072b4\">CountVectorizer</label><div class=\"sk-toggleable__content\"><pre>CountVectorizer()</pre></div></div></div><div class=\"sk-item\"><div class=\"sk-estimator sk-toggleable\"><input class=\"sk-toggleable__control sk-hidden--visually\" id=\"dedc8fb2-deef-41b7-93d1-c892b71eaab1\" type=\"checkbox\" ><label class=\"sk-toggleable__label\" for=\"dedc8fb2-deef-41b7-93d1-c892b71eaab1\">FunctionTransformer</label><div class=\"sk-toggleable__content\"><pre>FunctionTransformer(func=<function <lambda> at 0x000001D10483F700>)</pre></div></div></div></div></div></div></div></div></div></div><div class=\"sk-item\"><div class=\"sk-estimator sk-toggleable\"><input class=\"sk-toggleable__control sk-hidden--visually\" id=\"f58acf75-c68e-42e9-9f68-9e59ab108e4b\" type=\"checkbox\" ><label class=\"sk-toggleable__label\" for=\"f58acf75-c68e-42e9-9f68-9e59ab108e4b\">RandomOverSampler</label><div class=\"sk-toggleable__content\"><pre>RandomOverSampler(random_state=24, sampling_strategy='not majority')</pre></div></div></div><div class=\"sk-item\"><div class=\"sk-estimator sk-toggleable\"><input class=\"sk-toggleable__control sk-hidden--visually\" id=\"2f83dba5-d3d2-4563-b766-a538c0d13605\" type=\"checkbox\" ><label class=\"sk-toggleable__label\" for=\"2f83dba5-d3d2-4563-b766-a538c0d13605\">RandomForestClassifier</label><div class=\"sk-toggleable__content\"><pre>RandomForestClassifier(max_depth=6, random_state=24)</pre></div></div></div></div></div></div></div>"
      ],
      "text/plain": [
       "Pipeline(steps=[('preprocessor',\n",
       "                 ColumnTransformer(transformers=[('tweet_text',\n",
       "                                                  Pipeline(steps=[('squeeze',\n",
       "                                                                   FunctionTransformer(func=<function <lambda> at 0x000001D10483F790>)),\n",
       "                                                                  ('vec',\n",
       "                                                                   CountVectorizer()),\n",
       "                                                                  ('array',\n",
       "                                                                   FunctionTransformer(func=<function <lambda> at 0x000001D10483F700>))]),\n",
       "                                                  ['text'])])),\n",
       "                ('ros',\n",
       "                 RandomOverSampler(random_state=24,\n",
       "                                   sampling_strategy='not majority')),\n",
       "                ('rf', RandomForestClassifier(max_depth=6, random_state=24))])"
      ]
     },
     "execution_count": 99,
     "metadata": {},
     "output_type": "execute_result"
    }
   ],
   "source": [
    "# Fitting the model on the train data\n",
    "rfmodel_pipe.fit(X_train_frame, y_train)"
   ]
  },
  {
   "cell_type": "code",
   "execution_count": 100,
   "metadata": {},
   "outputs": [
    {
     "data": {
      "text/plain": [
       "0.7531174683013727"
      ]
     },
     "execution_count": 100,
     "metadata": {},
     "output_type": "execute_result"
    }
   ],
   "source": [
    "# Model Train score\n",
    "rfmodel_pipe.score(X_train_frame, y_train)"
   ]
  },
  {
   "cell_type": "code",
   "execution_count": 101,
   "metadata": {},
   "outputs": [
    {
     "name": "stdout",
     "output_type": "stream",
     "text": [
      "              precision    recall  f1-score   support\n",
      "\n",
      "           0       0.50      0.58      0.53       347\n",
      "           1       0.60      0.59      0.59       475\n",
      "           2       0.84      0.81      0.82      1566\n",
      "\n",
      "    accuracy                           0.73      2388\n",
      "   macro avg       0.64      0.66      0.65      2388\n",
      "weighted avg       0.74      0.73      0.74      2388\n",
      "\n"
     ]
    }
   ],
   "source": [
    "# Model test score\n",
    "rf_y_pred = rfmodel_pipe.predict(X_test_toframe)\n",
    "print(classification_report(y_test, rf_y_pred))"
   ]
  },
  {
   "cell_type": "markdown",
   "metadata": {},
   "source": [
    "**The train and test scores were similar for the Random Forest model. Aiming to get a better score so I am going to hyper parameter tune the model.**"
   ]
  },
  {
   "cell_type": "markdown",
   "metadata": {},
   "source": [
    "### Hyper Parameter tuning the RandomForest Model"
   ]
  },
  {
   "cell_type": "code",
   "execution_count": 109,
   "metadata": {},
   "outputs": [],
   "source": [
    "# Hyper parameter tuning parameters\n",
    "rfgridparams =  [{'rf__max_depth' : [6,7],\n",
    "                  'rf__n_estimators' : [100,150, 200],\n",
    "                 'ros__sampling_strategy': ['not majority'],\n",
    "               'preprocessor__tweet_text__vec__ngram_range': [(1,1),(1,2)]}]"
   ]
  },
  {
   "cell_type": "code",
   "execution_count": 110,
   "metadata": {},
   "outputs": [],
   "source": [
    "# Fitting the model to GridSearchCv\n",
    "RFGridSearch = GridSearchCV(rfmodel_pipe, param_grid = rfgridparams, scoring= 'f1_weighted', cv = 3)"
   ]
  },
  {
   "cell_type": "code",
   "execution_count": 111,
   "metadata": {},
   "outputs": [
    {
     "data": {
      "text/html": [
       "<style>div.sk-top-container {color: black;background-color: white;}div.sk-toggleable {background-color: white;}label.sk-toggleable__label {cursor: pointer;display: block;width: 100%;margin-bottom: 0;padding: 0.2em 0.3em;box-sizing: border-box;text-align: center;}div.sk-toggleable__content {max-height: 0;max-width: 0;overflow: hidden;text-align: left;background-color: #f0f8ff;}div.sk-toggleable__content pre {margin: 0.2em;color: black;border-radius: 0.25em;background-color: #f0f8ff;}input.sk-toggleable__control:checked~div.sk-toggleable__content {max-height: 200px;max-width: 100%;overflow: auto;}div.sk-estimator input.sk-toggleable__control:checked~label.sk-toggleable__label {background-color: #d4ebff;}div.sk-label input.sk-toggleable__control:checked~label.sk-toggleable__label {background-color: #d4ebff;}input.sk-hidden--visually {border: 0;clip: rect(1px 1px 1px 1px);clip: rect(1px, 1px, 1px, 1px);height: 1px;margin: -1px;overflow: hidden;padding: 0;position: absolute;width: 1px;}div.sk-estimator {font-family: monospace;background-color: #f0f8ff;margin: 0.25em 0.25em;border: 1px dotted black;border-radius: 0.25em;box-sizing: border-box;}div.sk-estimator:hover {background-color: #d4ebff;}div.sk-parallel-item::after {content: \"\";width: 100%;border-bottom: 1px solid gray;flex-grow: 1;}div.sk-label:hover label.sk-toggleable__label {background-color: #d4ebff;}div.sk-serial::before {content: \"\";position: absolute;border-left: 1px solid gray;box-sizing: border-box;top: 2em;bottom: 0;left: 50%;}div.sk-serial {display: flex;flex-direction: column;align-items: center;background-color: white;}div.sk-item {z-index: 1;}div.sk-parallel {display: flex;align-items: stretch;justify-content: center;background-color: white;}div.sk-parallel-item {display: flex;flex-direction: column;position: relative;background-color: white;}div.sk-parallel-item:first-child::after {align-self: flex-end;width: 50%;}div.sk-parallel-item:last-child::after {align-self: flex-start;width: 50%;}div.sk-parallel-item:only-child::after {width: 0;}div.sk-dashed-wrapped {border: 1px dashed gray;margin: 0.2em;box-sizing: border-box;padding-bottom: 0.1em;background-color: white;position: relative;}div.sk-label label {font-family: monospace;font-weight: bold;background-color: white;display: inline-block;line-height: 1.2em;}div.sk-label-container {position: relative;z-index: 2;text-align: center;}div.sk-container {display: inline-block;position: relative;}</style><div class=\"sk-top-container\"><div class=\"sk-container\"><div class=\"sk-item sk-dashed-wrapped\"><div class=\"sk-label-container\"><div class=\"sk-label sk-toggleable\"><input class=\"sk-toggleable__control sk-hidden--visually\" id=\"36992115-3432-46b2-8ded-5661be307c8b\" type=\"checkbox\" ><label class=\"sk-toggleable__label\" for=\"36992115-3432-46b2-8ded-5661be307c8b\">GridSearchCV</label><div class=\"sk-toggleable__content\"><pre>GridSearchCV(cv=3,\n",
       "             estimator=Pipeline(steps=[('preprocessor',\n",
       "                                        ColumnTransformer(transformers=[('tweet_text',\n",
       "                                                                         Pipeline(steps=[('squeeze',\n",
       "                                                                                          FunctionTransformer(func=<function <lambda> at 0x000001D10483F790>)),\n",
       "                                                                                         ('vec',\n",
       "                                                                                          CountVectorizer()),\n",
       "                                                                                         ('array',\n",
       "                                                                                          FunctionTransformer(func=<function <lambda> at 0x000001D10483F700>))]),\n",
       "                                                                         ['text'])])),\n",
       "                                       ('ros',\n",
       "                                        RandomOverSampler(random_state=24,\n",
       "                                                          sampling_strategy='not '\n",
       "                                                                            'majority')),\n",
       "                                       ('rf',\n",
       "                                        RandomForestClassifier(max_depth=6,\n",
       "                                                               random_state=24))]),\n",
       "             param_grid=[{'preprocessor__tweet_text__vec__ngram_range': [(1, 1),\n",
       "                                                                         (1,\n",
       "                                                                          2)],\n",
       "                          'rf__max_depth': [6, 7],\n",
       "                          'rf__n_estimators': [100, 150, 200],\n",
       "                          'ros__sampling_strategy': ['not majority']}],\n",
       "             scoring='f1_weighted')</pre></div></div></div><div class=\"sk-parallel\"><div class=\"sk-parallel-item\"><div class=\"sk-item\"><div class=\"sk-serial\"><div class=\"sk-item\"><div class=\"sk-serial\"><div class=\"sk-item sk-dashed-wrapped\"><div class=\"sk-label-container\"><div class=\"sk-label sk-toggleable\"><input class=\"sk-toggleable__control sk-hidden--visually\" id=\"97ffbf96-0cd2-459f-8c58-d89594366299\" type=\"checkbox\" ><label class=\"sk-toggleable__label\" for=\"97ffbf96-0cd2-459f-8c58-d89594366299\">preprocessor: ColumnTransformer</label><div class=\"sk-toggleable__content\"><pre>ColumnTransformer(transformers=[('tweet_text',\n",
       "                                 Pipeline(steps=[('squeeze',\n",
       "                                                  FunctionTransformer(func=<function <lambda> at 0x000001D10483F790>)),\n",
       "                                                 ('vec', CountVectorizer()),\n",
       "                                                 ('array',\n",
       "                                                  FunctionTransformer(func=<function <lambda> at 0x000001D10483F700>))]),\n",
       "                                 ['text'])])</pre></div></div></div><div class=\"sk-parallel\"><div class=\"sk-parallel-item\"><div class=\"sk-item\"><div class=\"sk-label-container\"><div class=\"sk-label sk-toggleable\"><input class=\"sk-toggleable__control sk-hidden--visually\" id=\"102555b5-016b-45c2-be20-49e64ab0765b\" type=\"checkbox\" ><label class=\"sk-toggleable__label\" for=\"102555b5-016b-45c2-be20-49e64ab0765b\">tweet_text</label><div class=\"sk-toggleable__content\"><pre>['text']</pre></div></div></div><div class=\"sk-serial\"><div class=\"sk-item\"><div class=\"sk-serial\"><div class=\"sk-item\"><div class=\"sk-estimator sk-toggleable\"><input class=\"sk-toggleable__control sk-hidden--visually\" id=\"9e64ae33-f934-4057-9455-3469b760768c\" type=\"checkbox\" ><label class=\"sk-toggleable__label\" for=\"9e64ae33-f934-4057-9455-3469b760768c\">FunctionTransformer</label><div class=\"sk-toggleable__content\"><pre>FunctionTransformer(func=<function <lambda> at 0x000001D10483F790>)</pre></div></div></div><div class=\"sk-item\"><div class=\"sk-estimator sk-toggleable\"><input class=\"sk-toggleable__control sk-hidden--visually\" id=\"a154696b-d886-4f70-a05e-93ab2266f430\" type=\"checkbox\" ><label class=\"sk-toggleable__label\" for=\"a154696b-d886-4f70-a05e-93ab2266f430\">CountVectorizer</label><div class=\"sk-toggleable__content\"><pre>CountVectorizer()</pre></div></div></div><div class=\"sk-item\"><div class=\"sk-estimator sk-toggleable\"><input class=\"sk-toggleable__control sk-hidden--visually\" id=\"3eb7b697-3b88-43f1-beee-c5c220728b87\" type=\"checkbox\" ><label class=\"sk-toggleable__label\" for=\"3eb7b697-3b88-43f1-beee-c5c220728b87\">FunctionTransformer</label><div class=\"sk-toggleable__content\"><pre>FunctionTransformer(func=<function <lambda> at 0x000001D10483F700>)</pre></div></div></div></div></div></div></div></div></div></div><div class=\"sk-item\"><div class=\"sk-estimator sk-toggleable\"><input class=\"sk-toggleable__control sk-hidden--visually\" id=\"8e3b9aac-85a7-40c9-a741-ece5bb1db9f9\" type=\"checkbox\" ><label class=\"sk-toggleable__label\" for=\"8e3b9aac-85a7-40c9-a741-ece5bb1db9f9\">RandomOverSampler</label><div class=\"sk-toggleable__content\"><pre>RandomOverSampler(random_state=24, sampling_strategy='not majority')</pre></div></div></div><div class=\"sk-item\"><div class=\"sk-estimator sk-toggleable\"><input class=\"sk-toggleable__control sk-hidden--visually\" id=\"34c78c2e-17b4-493c-995d-017aff352224\" type=\"checkbox\" ><label class=\"sk-toggleable__label\" for=\"34c78c2e-17b4-493c-995d-017aff352224\">RandomForestClassifier</label><div class=\"sk-toggleable__content\"><pre>RandomForestClassifier(max_depth=6, random_state=24)</pre></div></div></div></div></div></div></div></div></div></div></div></div>"
      ],
      "text/plain": [
       "GridSearchCV(cv=3,\n",
       "             estimator=Pipeline(steps=[('preprocessor',\n",
       "                                        ColumnTransformer(transformers=[('tweet_text',\n",
       "                                                                         Pipeline(steps=[('squeeze',\n",
       "                                                                                          FunctionTransformer(func=<function <lambda> at 0x000001D10483F790>)),\n",
       "                                                                                         ('vec',\n",
       "                                                                                          CountVectorizer()),\n",
       "                                                                                         ('array',\n",
       "                                                                                          FunctionTransformer(func=<function <lambda> at 0x000001D10483F700>))]),\n",
       "                                                                         ['text'])])),\n",
       "                                       ('ros',\n",
       "                                        RandomOverSampler(random_state=24,\n",
       "                                                          sampling_strategy='not '\n",
       "                                                                            'majority')),\n",
       "                                       ('rf',\n",
       "                                        RandomForestClassifier(max_depth=6,\n",
       "                                                               random_state=24))]),\n",
       "             param_grid=[{'preprocessor__tweet_text__vec__ngram_range': [(1, 1),\n",
       "                                                                         (1,\n",
       "                                                                          2)],\n",
       "                          'rf__max_depth': [6, 7],\n",
       "                          'rf__n_estimators': [100, 150, 200],\n",
       "                          'ros__sampling_strategy': ['not majority']}],\n",
       "             scoring='f1_weighted')"
      ]
     },
     "execution_count": 111,
     "metadata": {},
     "output_type": "execute_result"
    }
   ],
   "source": [
    "# Fitting on the train data\n",
    "RFGridSearch.fit(X_train_frame, y_train)"
   ]
  },
  {
   "cell_type": "code",
   "execution_count": 112,
   "metadata": {},
   "outputs": [
    {
     "data": {
      "text/plain": [
       "{'preprocessor__tweet_text__vec__ngram_range': (1, 1),\n",
       " 'rf__max_depth': 7,\n",
       " 'rf__n_estimators': 100,\n",
       " 'ros__sampling_strategy': 'not majority'}"
      ]
     },
     "execution_count": 112,
     "metadata": {},
     "output_type": "execute_result"
    }
   ],
   "source": [
    "# looking at best parameters\n",
    "RFGridSearch.best_params_"
   ]
  },
  {
   "cell_type": "code",
   "execution_count": 113,
   "metadata": {},
   "outputs": [],
   "source": [
    "# Assigning best estimator to a variable\n",
    "RFgridsearch_best_model = RFGridSearch.best_estimator_"
   ]
  },
  {
   "cell_type": "code",
   "execution_count": 114,
   "metadata": {},
   "outputs": [
    {
     "data": {
      "text/plain": [
       "0.7637011421984701"
      ]
     },
     "execution_count": 114,
     "metadata": {},
     "output_type": "execute_result"
    }
   ],
   "source": [
    "# Calculating the score of the best model on the train data\n",
    "RFgridsearch_best_model.score(X_train_frame, y_train)"
   ]
  },
  {
   "cell_type": "code",
   "execution_count": 115,
   "metadata": {},
   "outputs": [
    {
     "name": "stdout",
     "output_type": "stream",
     "text": [
      "              precision    recall  f1-score   support\n",
      "\n",
      "           0       0.49      0.56      0.52       347\n",
      "           1       0.60      0.61      0.60       475\n",
      "           2       0.84      0.81      0.83      1566\n",
      "\n",
      "    accuracy                           0.74      2388\n",
      "   macro avg       0.64      0.66      0.65      2388\n",
      "weighted avg       0.74      0.74      0.74      2388\n",
      "\n"
     ]
    }
   ],
   "source": [
    "# Classification report on the test data\n",
    "rfgrid_y_pred = RFgridsearch_best_model.predict(X_test_toframe)\n",
    "print(classification_report(y_test, rfgrid_y_pred))"
   ]
  },
  {
   "cell_type": "markdown",
   "metadata": {},
   "source": [
    "**This model did not do as well as I wanted to so I am going to try a different classifier.**"
   ]
  },
  {
   "cell_type": "markdown",
   "metadata": {},
   "source": [
    "### XGBoost Classifier"
   ]
  },
  {
   "cell_type": "code",
   "execution_count": 12,
   "metadata": {},
   "outputs": [],
   "source": [
    "# Creating a pipeline for XGBoost\n",
    "Tweet_text_transformer = Pipeline(steps = [\n",
    "    (\"squeeze\", FunctionTransformer(lambda x: x.squeeze())),\n",
    "    (\"vec\", CountVectorizer()),\n",
    "    (\"array\", FunctionTransformer(lambda x: x.toarray()))\n",
    "])\n",
    "\n",
    "preprocessor = ColumnTransformer(transformers = [\n",
    "    ('tweet_text', Tweet_text_transformer, ['text'])])\n",
    "\n",
    "steps = [('preprocessor', preprocessor), ('ros', RandomOverSampler(random_state = 24, sampling_strategy = 'not majority')), \n",
    "         ('xgb', XGBClassifier(random_state = 24))]\n",
    "\n",
    "xgbmodel_pipe = Pipeline(steps)"
   ]
  },
  {
   "cell_type": "code",
   "execution_count": 13,
   "metadata": {
    "scrolled": false
   },
   "outputs": [
    {
     "data": {
      "text/html": [
       "<style>div.sk-top-container {color: black;background-color: white;}div.sk-toggleable {background-color: white;}label.sk-toggleable__label {cursor: pointer;display: block;width: 100%;margin-bottom: 0;padding: 0.2em 0.3em;box-sizing: border-box;text-align: center;}div.sk-toggleable__content {max-height: 0;max-width: 0;overflow: hidden;text-align: left;background-color: #f0f8ff;}div.sk-toggleable__content pre {margin: 0.2em;color: black;border-radius: 0.25em;background-color: #f0f8ff;}input.sk-toggleable__control:checked~div.sk-toggleable__content {max-height: 200px;max-width: 100%;overflow: auto;}div.sk-estimator input.sk-toggleable__control:checked~label.sk-toggleable__label {background-color: #d4ebff;}div.sk-label input.sk-toggleable__control:checked~label.sk-toggleable__label {background-color: #d4ebff;}input.sk-hidden--visually {border: 0;clip: rect(1px 1px 1px 1px);clip: rect(1px, 1px, 1px, 1px);height: 1px;margin: -1px;overflow: hidden;padding: 0;position: absolute;width: 1px;}div.sk-estimator {font-family: monospace;background-color: #f0f8ff;margin: 0.25em 0.25em;border: 1px dotted black;border-radius: 0.25em;box-sizing: border-box;}div.sk-estimator:hover {background-color: #d4ebff;}div.sk-parallel-item::after {content: \"\";width: 100%;border-bottom: 1px solid gray;flex-grow: 1;}div.sk-label:hover label.sk-toggleable__label {background-color: #d4ebff;}div.sk-serial::before {content: \"\";position: absolute;border-left: 1px solid gray;box-sizing: border-box;top: 2em;bottom: 0;left: 50%;}div.sk-serial {display: flex;flex-direction: column;align-items: center;background-color: white;}div.sk-item {z-index: 1;}div.sk-parallel {display: flex;align-items: stretch;justify-content: center;background-color: white;}div.sk-parallel-item {display: flex;flex-direction: column;position: relative;background-color: white;}div.sk-parallel-item:first-child::after {align-self: flex-end;width: 50%;}div.sk-parallel-item:last-child::after {align-self: flex-start;width: 50%;}div.sk-parallel-item:only-child::after {width: 0;}div.sk-dashed-wrapped {border: 1px dashed gray;margin: 0.2em;box-sizing: border-box;padding-bottom: 0.1em;background-color: white;position: relative;}div.sk-label label {font-family: monospace;font-weight: bold;background-color: white;display: inline-block;line-height: 1.2em;}div.sk-label-container {position: relative;z-index: 2;text-align: center;}div.sk-container {display: inline-block;position: relative;}</style><div class=\"sk-top-container\"><div class=\"sk-container\"><div class=\"sk-item sk-dashed-wrapped\"><div class=\"sk-label-container\"><div class=\"sk-label sk-toggleable\"><input class=\"sk-toggleable__control sk-hidden--visually\" id=\"ccd15ffb-3471-4412-a191-fb1b06bb5ebb\" type=\"checkbox\" ><label class=\"sk-toggleable__label\" for=\"ccd15ffb-3471-4412-a191-fb1b06bb5ebb\">Pipeline</label><div class=\"sk-toggleable__content\"><pre>Pipeline(steps=[('preprocessor',\n",
       "                 ColumnTransformer(transformers=[('tweet_text',\n",
       "                                                  Pipeline(steps=[('squeeze',\n",
       "                                                                   FunctionTransformer(func=<function <lambda> at 0x000001D0CD2131F0>)),\n",
       "                                                                  ('vec',\n",
       "                                                                   CountVectorizer()),\n",
       "                                                                  ('array',\n",
       "                                                                   FunctionTransformer(func=<function <lambda> at 0x000001D0CD213160>))]),\n",
       "                                                  ['text'])])),\n",
       "                ('ros',\n",
       "                 RandomOverSampler(random_state=24,\n",
       "                                   sampling_strategy='not...\n",
       "                               importance_type='gain',\n",
       "                               interaction_constraints='',\n",
       "                               learning_rate=0.300000012, max_delta_step=0,\n",
       "                               max_depth=6, min_child_weight=1, missing=nan,\n",
       "                               monotone_constraints='()', n_estimators=100,\n",
       "                               n_jobs=0, num_parallel_tree=1,\n",
       "                               objective='multi:softprob', random_state=24,\n",
       "                               reg_alpha=0, reg_lambda=1, scale_pos_weight=None,\n",
       "                               subsample=1, tree_method='exact',\n",
       "                               validate_parameters=1, verbosity=None))])</pre></div></div></div><div class=\"sk-serial\"><div class=\"sk-item sk-dashed-wrapped\"><div class=\"sk-label-container\"><div class=\"sk-label sk-toggleable\"><input class=\"sk-toggleable__control sk-hidden--visually\" id=\"20b79d4a-8dbf-4285-a59b-1abc5de76b6d\" type=\"checkbox\" ><label class=\"sk-toggleable__label\" for=\"20b79d4a-8dbf-4285-a59b-1abc5de76b6d\">preprocessor: ColumnTransformer</label><div class=\"sk-toggleable__content\"><pre>ColumnTransformer(transformers=[('tweet_text',\n",
       "                                 Pipeline(steps=[('squeeze',\n",
       "                                                  FunctionTransformer(func=<function <lambda> at 0x000001D0CD2131F0>)),\n",
       "                                                 ('vec', CountVectorizer()),\n",
       "                                                 ('array',\n",
       "                                                  FunctionTransformer(func=<function <lambda> at 0x000001D0CD213160>))]),\n",
       "                                 ['text'])])</pre></div></div></div><div class=\"sk-parallel\"><div class=\"sk-parallel-item\"><div class=\"sk-item\"><div class=\"sk-label-container\"><div class=\"sk-label sk-toggleable\"><input class=\"sk-toggleable__control sk-hidden--visually\" id=\"c19ba45a-f787-4b25-bb93-97f7ea595d98\" type=\"checkbox\" ><label class=\"sk-toggleable__label\" for=\"c19ba45a-f787-4b25-bb93-97f7ea595d98\">tweet_text</label><div class=\"sk-toggleable__content\"><pre>['text']</pre></div></div></div><div class=\"sk-serial\"><div class=\"sk-item\"><div class=\"sk-serial\"><div class=\"sk-item\"><div class=\"sk-estimator sk-toggleable\"><input class=\"sk-toggleable__control sk-hidden--visually\" id=\"76ba901b-b5a8-4859-a01c-1100ae055420\" type=\"checkbox\" ><label class=\"sk-toggleable__label\" for=\"76ba901b-b5a8-4859-a01c-1100ae055420\">FunctionTransformer</label><div class=\"sk-toggleable__content\"><pre>FunctionTransformer(func=<function <lambda> at 0x000001D0CD2131F0>)</pre></div></div></div><div class=\"sk-item\"><div class=\"sk-estimator sk-toggleable\"><input class=\"sk-toggleable__control sk-hidden--visually\" id=\"0fbc233c-0567-4902-9ddd-8ef57ca83be5\" type=\"checkbox\" ><label class=\"sk-toggleable__label\" for=\"0fbc233c-0567-4902-9ddd-8ef57ca83be5\">CountVectorizer</label><div class=\"sk-toggleable__content\"><pre>CountVectorizer()</pre></div></div></div><div class=\"sk-item\"><div class=\"sk-estimator sk-toggleable\"><input class=\"sk-toggleable__control sk-hidden--visually\" id=\"c0dd55ee-bd9c-4451-be93-1465890d5e56\" type=\"checkbox\" ><label class=\"sk-toggleable__label\" for=\"c0dd55ee-bd9c-4451-be93-1465890d5e56\">FunctionTransformer</label><div class=\"sk-toggleable__content\"><pre>FunctionTransformer(func=<function <lambda> at 0x000001D0CD213160>)</pre></div></div></div></div></div></div></div></div></div></div><div class=\"sk-item\"><div class=\"sk-estimator sk-toggleable\"><input class=\"sk-toggleable__control sk-hidden--visually\" id=\"7b6596e9-dc48-41a6-9117-b8988468d384\" type=\"checkbox\" ><label class=\"sk-toggleable__label\" for=\"7b6596e9-dc48-41a6-9117-b8988468d384\">RandomOverSampler</label><div class=\"sk-toggleable__content\"><pre>RandomOverSampler(random_state=24, sampling_strategy='not majority')</pre></div></div></div><div class=\"sk-item\"><div class=\"sk-estimator sk-toggleable\"><input class=\"sk-toggleable__control sk-hidden--visually\" id=\"25e9250d-7c04-4a70-921b-1abfcf7f6078\" type=\"checkbox\" ><label class=\"sk-toggleable__label\" for=\"25e9250d-7c04-4a70-921b-1abfcf7f6078\">XGBClassifier</label><div class=\"sk-toggleable__content\"><pre>XGBClassifier(base_score=0.5, booster='gbtree', colsample_bylevel=1,\n",
       "              colsample_bynode=1, colsample_bytree=1, gamma=0, gpu_id=-1,\n",
       "              importance_type='gain', interaction_constraints='',\n",
       "              learning_rate=0.300000012, max_delta_step=0, max_depth=6,\n",
       "              min_child_weight=1, missing=nan, monotone_constraints='()',\n",
       "              n_estimators=100, n_jobs=0, num_parallel_tree=1,\n",
       "              objective='multi:softprob', random_state=24, reg_alpha=0,\n",
       "              reg_lambda=1, scale_pos_weight=None, subsample=1,\n",
       "              tree_method='exact', validate_parameters=1, verbosity=None)</pre></div></div></div></div></div></div></div>"
      ],
      "text/plain": [
       "Pipeline(steps=[('preprocessor',\n",
       "                 ColumnTransformer(transformers=[('tweet_text',\n",
       "                                                  Pipeline(steps=[('squeeze',\n",
       "                                                                   FunctionTransformer(func=<function <lambda> at 0x000001D0CD2131F0>)),\n",
       "                                                                  ('vec',\n",
       "                                                                   CountVectorizer()),\n",
       "                                                                  ('array',\n",
       "                                                                   FunctionTransformer(func=<function <lambda> at 0x000001D0CD213160>))]),\n",
       "                                                  ['text'])])),\n",
       "                ('ros',\n",
       "                 RandomOverSampler(random_state=24,\n",
       "                                   sampling_strategy='not...\n",
       "                               importance_type='gain',\n",
       "                               interaction_constraints='',\n",
       "                               learning_rate=0.300000012, max_delta_step=0,\n",
       "                               max_depth=6, min_child_weight=1, missing=nan,\n",
       "                               monotone_constraints='()', n_estimators=100,\n",
       "                               n_jobs=0, num_parallel_tree=1,\n",
       "                               objective='multi:softprob', random_state=24,\n",
       "                               reg_alpha=0, reg_lambda=1, scale_pos_weight=None,\n",
       "                               subsample=1, tree_method='exact',\n",
       "                               validate_parameters=1, verbosity=None))])"
      ]
     },
     "execution_count": 13,
     "metadata": {},
     "output_type": "execute_result"
    }
   ],
   "source": [
    "# Fitting to X_train\n",
    "xgbmodel_pipe.fit(X_train_frame, y_train)"
   ]
  },
  {
   "cell_type": "code",
   "execution_count": 18,
   "metadata": {},
   "outputs": [
    {
     "data": {
      "text/plain": [
       "0.861259561982605"
      ]
     },
     "execution_count": 18,
     "metadata": {},
     "output_type": "execute_result"
    }
   ],
   "source": [
    "# Score on the train data\n",
    "xgbmodel_pipe.score(X_train_frame, y_train)"
   ]
  },
  {
   "cell_type": "code",
   "execution_count": 17,
   "metadata": {},
   "outputs": [
    {
     "name": "stdout",
     "output_type": "stream",
     "text": [
      "              precision    recall  f1-score   support\n",
      "\n",
      "           0       0.59      0.68      0.63       347\n",
      "           1       0.72      0.70      0.71       475\n",
      "           2       0.88      0.86      0.87      1566\n",
      "\n",
      "    accuracy                           0.80      2388\n",
      "   macro avg       0.73      0.75      0.74      2388\n",
      "weighted avg       0.81      0.80      0.81      2388\n",
      "\n"
     ]
    }
   ],
   "source": [
    "# Report on the test data\n",
    "xgb_y_test_pred = xgbmodel_pipe.predict(X_test_toframe)\n",
    "print(classification_report(y_test, xgb_y_test_pred))"
   ]
  },
  {
   "cell_type": "code",
   "execution_count": 29,
   "metadata": {},
   "outputs": [
    {
     "data": {
      "image/png": "[encoded data removed]",
      "text/plain": [
       "<Figure size 432x288 with 2 Axes>"
      ]
     },
     "metadata": {
      "needs_background": "light"
     },
     "output_type": "display_data"
    }
   ],
   "source": [
    "# Plotting confusion matrix\n",
    "plot_confusion_matrix(xgbmodel_pipe, X_test_toframe,\n",
    "                      y_test);"
   ]
  },
  {
   "cell_type": "code",
   "execution_count": 107,
   "metadata": {
    "scrolled": true
   },
   "outputs": [
    {
     "data": {
      "text/plain": [
       "11868"
      ]
     },
     "execution_count": 107,
     "metadata": {},
     "output_type": "execute_result"
    }
   ],
   "source": [
    "# Used the CountVectorizer to pinpoint important feature names\n",
    "xgbmodel_pipe['preprocessor'].transformers_[0][1].named_steps['vec'].get_feature_names()"
   ]
  },
  {
   "cell_type": "code",
   "execution_count": 92,
   "metadata": {},
   "outputs": [],
   "source": [
    "# Feature names to be used on feauture importance graph\n",
    "column_names = ['result', 'weak', 'fall', 'conference', 'bullish', 'jump', 'presentation', 'beat', 'raise', 'declare']"
   ]
  },
  {
   "cell_type": "code",
   "execution_count": 93,
   "metadata": {
    "scrolled": true
   },
   "outputs": [
    {
     "data": {
      "image/png": "[encoded data removed]",
      "text/plain": [
       "<Figure size 432x288 with 1 Axes>"
      ]
     },
     "metadata": {
      "needs_background": "light"
     },
     "output_type": "display_data"
    }
   ],
   "source": [
    "# Plotting Feature importances \n",
    "fig, ax = plt.subplots()\n",
    "feature_imp_xgb = xgbmodel_pipe['xgb'].feature_importances_\n",
    "feat_imp_series_xgb = pd.Series(feature_imp_xgb).sort_values(ascending = True)\n",
    "feat_imp_series_xgb.nlargest(10).plot(kind = 'barh')\n",
    "ax.set_yticklabels(column_names)\n",
    "ax.set_title('Feature Importance', fontsize = 20)\n",
    "ax.set_ylabel('Feature Name', fontsize = 15)\n",
    "ax.set_xlabel('Feature Impact Percentage', fontsize = 15);"
   ]
  },
  {
   "cell_type": "markdown",
   "metadata": {},
   "source": [
    "**Feature importance percentage is so low because there are over 11,000 features.**"
   ]
  },
  {
   "cell_type": "markdown",
   "metadata": {},
   "source": [
    "## Evaluation"
   ]
  },
  {
   "cell_type": "markdown",
   "metadata": {},
   "source": [
    "- The best model is the XGBoost classifier with an overall f1_weighted score of **81**%\n",
    "- I chose the f1_weighted score as the overall metric performance because we want to take into account of the class imbalance\n",
    "- It takes in the f1 score for each label and returns the average considering the porportion of each label in the dataset\n",
    "- In the case of the stake holder who is trying to get an edge on other investors it is important to have an average of the false positives and the the false negatives rather than just one. \n",
    "- The error of false positive and a false negative of the model to an investor could make them make a poor decision investing equally\n",
    "    - Which is why it is important to use f1\n",
    "- Overall I dont think this model is good enough to use in the real world as it has some issues identifying the bullish and bearish labels. "
   ]
  }
 ],
 "metadata": {
  "kernelspec": {
   "display_name": "Python (learn-env)",
   "language": "python",
   "name": "learn-env"
  },
  "language_info": {
   "codemirror_mode": {
    "name": "ipython",
    "version": 3
   },
   "file_extension": ".py",
   "mimetype": "text/x-python",
   "name": "python",
   "nbconvert_exporter": "python",
   "pygments_lexer": "ipython3",
   "version": "3.8.5"
  }
 },
 "nbformat": 4,
 "nbformat_minor": 4
}
